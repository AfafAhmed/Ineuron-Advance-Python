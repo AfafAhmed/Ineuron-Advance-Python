{
 "cells": [
  {
   "cell_type": "code",
   "execution_count": 1,
   "id": "f1ad0aad",
   "metadata": {},
   "outputs": [
    {
     "data": {
      "text/plain": [
       "4.0"
      ]
     },
     "execution_count": 1,
     "metadata": {},
     "output_type": "execute_result"
    }
   ],
   "source": [
    "import math\n",
    "math.sqrt(16)"
   ]
  },
  {
   "cell_type": "code",
   "execution_count": null,
   "id": "245030c9",
   "metadata": {},
   "outputs": [],
   "source": []
  },
  {
   "cell_type": "code",
   "execution_count": 21,
   "id": "e4bedb97",
   "metadata": {},
   "outputs": [
    {
     "data": {
      "text/plain": [
       "3.976353643835253"
      ]
     },
     "execution_count": 21,
     "metadata": {},
     "output_type": "execute_result"
    }
   ],
   "source": [
    "250**(1/4)"
   ]
  },
  {
   "cell_type": "code",
   "execution_count": 22,
   "id": "07db0d69",
   "metadata": {},
   "outputs": [
    {
     "data": {
      "text/plain": [
       "2.028270637053593"
      ]
     },
     "execution_count": 22,
     "metadata": {},
     "output_type": "execute_result"
    }
   ],
   "source": [
    "1300**(1/4)-250**(1/4)"
   ]
  },
  {
   "cell_type": "code",
   "execution_count": 23,
   "id": "367235c5",
   "metadata": {},
   "outputs": [
    {
     "data": {
      "text/plain": [
       "'y'"
      ]
     },
     "execution_count": 23,
     "metadata": {},
     "output_type": "execute_result"
    }
   ],
   "source": [
    "s = \"very\"\n",
    "s[-1]"
   ]
  },
  {
   "cell_type": "code",
   "execution_count": 27,
   "id": "843b48b4",
   "metadata": {},
   "outputs": [
    {
     "data": {
      "text/plain": [
       "4"
      ]
     },
     "execution_count": 27,
     "metadata": {},
     "output_type": "execute_result"
    }
   ],
   "source": [
    "ls = 'a very large appliance'\n",
    "len(ls.split(\" \"))"
   ]
  },
  {
   "cell_type": "code",
   "execution_count": 38,
   "id": "4c9c9ecb",
   "metadata": {},
   "outputs": [
    {
     "name": "stdout",
     "output_type": "stream",
     "text": [
      "12\n",
      "4\n"
     ]
    }
   ],
   "source": [
    "ls= \"happy birthday\"\n",
    "print(ls.rfind(\"a\"))\n",
    "print(ls.find(\"y\"))"
   ]
  },
  {
   "cell_type": "code",
   "execution_count": 42,
   "id": "35a56d0b",
   "metadata": {},
   "outputs": [
    {
     "name": "stdout",
     "output_type": "stream",
     "text": [
      "[4, 8]\n"
     ]
    }
   ],
   "source": [
    "ls = [2, 4, 6, 8, 10]        \n",
    "l = [ls[i-1] for i in range(1,len(ls)+1) if(i%2 == 0)]\n",
    "print(l)"
   ]
  },
  {
   "cell_type": "code",
   "execution_count": 55,
   "id": "95fbb7a8",
   "metadata": {},
   "outputs": [
    {
     "data": {
      "text/plain": [
       "'1'"
      ]
     },
     "execution_count": 55,
     "metadata": {},
     "output_type": "execute_result"
    }
   ],
   "source": [
    "def DecimalToBinary(num):\n",
    "    s=\"\"\n",
    "    if num >= 1:\n",
    "        s+=str(num % 2)\n",
    "        DecimalToBinary(num // 2)\n",
    "        \n",
    "    return s\n",
    "DecimalToBinary(17)"
   ]
  },
  {
   "cell_type": "code",
   "execution_count": 50,
   "id": "320708e0",
   "metadata": {},
   "outputs": [
    {
     "data": {
      "text/plain": [
       "51.33583333333333"
      ]
     },
     "execution_count": 50,
     "metadata": {},
     "output_type": "execute_result"
    }
   ],
   "source": [
    "(51*3600+20*60+9)/3600"
   ]
  },
  {
   "cell_type": "code",
   "execution_count": 17,
   "id": "fe776d98",
   "metadata": {},
   "outputs": [
    {
     "data": {
      "text/plain": [
       "6160.3"
      ]
     },
     "execution_count": 17,
     "metadata": {},
     "output_type": "execute_result"
    }
   ],
   "source": [
    "3080.15/0.5"
   ]
  },
  {
   "cell_type": "code",
   "execution_count": 18,
   "id": "0ec8e33e",
   "metadata": {},
   "outputs": [
    {
     "data": {
      "text/plain": [
       "102.67166666666667"
      ]
     },
     "execution_count": 18,
     "metadata": {},
     "output_type": "execute_result"
    }
   ],
   "source": [
    "6160.3/60"
   ]
  },
  {
   "cell_type": "code",
   "execution_count": 20,
   "id": "a0b5ddfe",
   "metadata": {},
   "outputs": [
    {
     "data": {
      "text/plain": [
       "40.300002"
      ]
     },
     "execution_count": 20,
     "metadata": {},
     "output_type": "execute_result"
    }
   ],
   "source": [
    "0.6716667*60"
   ]
  },
  {
   "cell_type": "code",
   "execution_count": 21,
   "id": "e7c865f9",
   "metadata": {},
   "outputs": [
    {
     "data": {
      "text/plain": [
       "18.00012"
      ]
     },
     "execution_count": 21,
     "metadata": {},
     "output_type": "execute_result"
    }
   ],
   "source": [
    "0.300002*60"
   ]
  },
  {
   "cell_type": "code",
   "execution_count": 48,
   "id": "fe53a20a",
   "metadata": {},
   "outputs": [
    {
     "name": "stdout",
     "output_type": "stream",
     "text": [
      "102:40:1:\n"
     ]
    }
   ],
   "source": [
    "def playback_duration(t,p):\n",
    "    ls = t.split(\":\")\n",
    "    a = (int(ls[0])*60 + int(ls[1])+ (int(ls[2])/60))/p\n",
    "    \n",
    "    l = \"\"\n",
    "    if(a >= 60):\n",
    "        r = round(a/60,2)\n",
    "        while True:\n",
    "            q = str(r).split('.')\n",
    "            l += q[0]+\":\"\n",
    "            r = (int(q[1])/100)*60\n",
    "            if(len(l) >= 8):\n",
    "                break\n",
    "        print(l)\n",
    "        \n",
    "\n",
    "#playback_duration(\"00:30:00\", 2)\n",
    "#playback_duration(\"01:20:00\", 1.5) ➞ \"00:53:20\"\n",
    "playback_duration(\"51:20:09\", 0.5)# ➞ \"102:40:18\""
   ]
  },
  {
   "cell_type": "code",
   "execution_count": 47,
   "id": "9e7cd746",
   "metadata": {},
   "outputs": [
    {
     "name": "stdout",
     "output_type": "stream",
     "text": [
      "102:\n",
      "40.2\n"
     ]
    }
   ],
   "source": [
    "t , p = \"51:20:09\", 0.5\n",
    "ls = t.split(\":\")\n",
    "a = (int(ls[0])*60 + int(ls[1])+ (int(ls[2])/60))/p\n",
    "#print(a)\n",
    "q = str(round(a/60,2)).split('.')\n",
    "#print(q)\n",
    "l = \"\"\n",
    "l += q[0]+\":\"\n",
    "print(l)\n",
    "r = (int(q[1])/100)*60\n",
    "print(r)\n"
   ]
  },
  {
   "cell_type": "code",
   "execution_count": 58,
   "id": "78c38442",
   "metadata": {},
   "outputs": [
    {
     "name": "stdout",
     "output_type": "stream",
     "text": [
      "369618.0\n",
      "102.67166666666667\n"
     ]
    }
   ],
   "source": [
    "in_time,playback_speed = \"51:20:09\", 0.5\n",
    "time = in_time.split(\":\")\n",
    "time_in_secs = (3600*int(time[0])+60*int(time[1])+int(time[2]))/playback_speed\n",
    "print(time_in_secs)\n",
    "print(time_in_secs/3600)"
   ]
  },
  {
   "cell_type": "code",
   "execution_count": 57,
   "id": "d3788007",
   "metadata": {},
   "outputs": [
    {
     "name": "stdout",
     "output_type": "stream",
     "text": [
      "2418.0\n"
     ]
    }
   ],
   "source": [
    "print(time_in_secs%3600)"
   ]
  },
  {
   "cell_type": "code",
   "execution_count": 60,
   "id": "06be1171",
   "metadata": {},
   "outputs": [
    {
     "data": {
      "text/plain": [
       "2418"
      ]
     },
     "execution_count": 60,
     "metadata": {},
     "output_type": "execute_result"
    }
   ],
   "source": [
    "369618 - 3600*102"
   ]
  },
  {
   "cell_type": "code",
   "execution_count": 62,
   "id": "8ee51718",
   "metadata": {},
   "outputs": [
    {
     "data": {
      "text/plain": [
       "1394353278003.0"
      ]
     },
     "execution_count": 62,
     "metadata": {},
     "output_type": "execute_result"
    }
   ],
   "source": [
    "4183059834009/3"
   ]
  },
  {
   "cell_type": "code",
   "execution_count": 79,
   "id": "125aeeb2",
   "metadata": {},
   "outputs": [
    {
     "name": "stdout",
     "output_type": "stream",
     "text": [
      "4\n"
     ]
    }
   ],
   "source": [
    "def find_fulcurm(ls):\n",
    "    for i in range(len(ls)-1):\n",
    "        if(sum(ls[:i]) == sum(ls[i+1:])):\n",
    "            print(ls[i])\n",
    "\n",
    "find_fulcurm([1, 2, 4, 9, 10, -10, -9, 3])"
   ]
  },
  {
   "cell_type": "code",
   "execution_count": 67,
   "id": "a4395443",
   "metadata": {},
   "outputs": [],
   "source": [
    "ls = [1, 2, 4, 9, 10, -10, -9, 3]"
   ]
  },
  {
   "cell_type": "code",
   "execution_count": 77,
   "id": "914415a9",
   "metadata": {},
   "outputs": [
    {
     "data": {
      "text/plain": [
       "3"
      ]
     },
     "execution_count": 77,
     "metadata": {},
     "output_type": "execute_result"
    }
   ],
   "source": [
    "sum(ls[:2])"
   ]
  },
  {
   "cell_type": "code",
   "execution_count": 78,
   "id": "6bff182f",
   "metadata": {},
   "outputs": [
    {
     "data": {
      "text/plain": [
       "3"
      ]
     },
     "execution_count": 78,
     "metadata": {},
     "output_type": "execute_result"
    }
   ],
   "source": [
    "sum(ls[3:])"
   ]
  },
  {
   "cell_type": "code",
   "execution_count": 81,
   "id": "7049810d",
   "metadata": {},
   "outputs": [
    {
     "data": {
      "text/plain": [
       "2"
      ]
     },
     "execution_count": 81,
     "metadata": {},
     "output_type": "execute_result"
    }
   ],
   "source": [
    "int(2.5)"
   ]
  },
  {
   "cell_type": "code",
   "execution_count": 84,
   "id": "35f8a329",
   "metadata": {},
   "outputs": [
    {
     "name": "stdout",
     "output_type": "stream",
     "text": [
      "3\n",
      "4\n",
      "0\n"
     ]
    }
   ],
   "source": [
    "def sock_merchant(ls):\n",
    "    st = set(ls)\n",
    "    result = 0\n",
    "    for i in st:\n",
    "        if ls.count(i)>1:\n",
    "            result += int(ls.count(i)/2)\n",
    "    print(result)\n",
    "    \n",
    "sock_merchant([10, 20, 20, 10, 10, 30, 50, 10, 20])\n",
    "sock_merchant([50, 20, 30, 90, 30, 20, 50, 20, 90])\n",
    "sock_merchant([])        "
   ]
  },
  {
   "cell_type": "code",
   "execution_count": 19,
   "id": "d9ee02f6",
   "metadata": {},
   "outputs": [
    {
     "data": {
      "text/plain": [
       "True"
      ]
     },
     "execution_count": 19,
     "metadata": {},
     "output_type": "execute_result"
    }
   ],
   "source": [
    "10 in [10, 20, 20, 10, 10, 30, 50, 10, 20] "
   ]
  },
  {
   "cell_type": "code",
   "execution_count": 89,
   "id": "d3d29e17",
   "metadata": {},
   "outputs": [
    {
     "data": {
      "text/plain": [
       "9"
      ]
     },
     "execution_count": 89,
     "metadata": {},
     "output_type": "execute_result"
    }
   ],
   "source": [
    "\"22 13%14&-11-22 13 12\".index(\"-\")"
   ]
  },
  {
   "cell_type": "code",
   "execution_count": 88,
   "id": "67bfde4b",
   "metadata": {},
   "outputs": [
    {
     "data": {
      "text/plain": [
       "['-12', '13%14&-11']"
      ]
     },
     "execution_count": 88,
     "metadata": {},
     "output_type": "execute_result"
    }
   ],
   "source": [
    "\"-12 13%14&-11\".split(\" \")\n"
   ]
  },
  {
   "cell_type": "code",
   "execution_count": null,
   "id": "0d2b821a",
   "metadata": {},
   "outputs": [],
   "source": []
  },
  {
   "cell_type": "code",
   "execution_count": 15,
   "id": "fb47c454",
   "metadata": {},
   "outputs": [
    {
     "name": "stdout",
     "output_type": "stream",
     "text": [
      "['####']\n",
      "['#  #']\n",
      "['#  #']\n",
      "['#  #']\n",
      "['####']\n"
     ]
    }
   ],
   "source": [
    "def get_frame(a,b,s):\n",
    "    result = []\n",
    "    if(a > 2 and b > 2):\n",
    "        for i in range(1,b+1):\n",
    "            if(i==1 or i==(b)):\n",
    "                result.append([s*a])\n",
    "            else:\n",
    "                result.append([s+\" \"*(a-2)+s])\n",
    "        for i in result:\n",
    "            print(i)\n",
    "    else:\n",
    "        print(\"Frame width is not more than 2\")\n",
    "        \n",
    "get_frame(4, 5, \"#\")"
   ]
  },
  {
   "cell_type": "code",
   "execution_count": 20,
   "id": "3a6213b5",
   "metadata": {},
   "outputs": [
    {
     "data": {
      "text/plain": [
       "'*****'"
      ]
     },
     "execution_count": 20,
     "metadata": {},
     "output_type": "execute_result"
    }
   ],
   "source": [
    "s = '*'*6\n",
    "s[:-1]"
   ]
  },
  {
   "cell_type": "code",
   "execution_count": 18,
   "id": "a85bd33b",
   "metadata": {},
   "outputs": [
    {
     "name": "stdout",
     "output_type": "stream",
     "text": [
      "[False]\n"
     ]
    }
   ],
   "source": [
    "def boolean_and(ls):\n",
    "    flag = ls\n",
    "    while len(flag) != 1:\n",
    "        result = []\n",
    "        for i in range(len(flag)-1):\n",
    "            result.append(flag[i] and flag[i+1])\n",
    "        flag = result\n",
    "    print(flag[0])\n",
    "\n",
    "boolean_and([True, True, False, True])"
   ]
  },
  {
   "cell_type": "code",
   "execution_count": null,
   "id": "4733879b",
   "metadata": {},
   "outputs": [],
   "source": [
    "ls = [True, True, False, True]\n",
    "result = []\n",
    "\n",
    "for i in range(len()-1):\n",
    "            result.append(ls[i] and ls[i+1])\n",
    "print(result)"
   ]
  },
  {
   "cell_type": "code",
   "execution_count": 22,
   "id": "67ab8a3e",
   "metadata": {},
   "outputs": [
    {
     "data": {
      "text/plain": [
       "0"
      ]
     },
     "execution_count": 22,
     "metadata": {},
     "output_type": "execute_result"
    }
   ],
   "source": [
    "result = []\n",
    "len(result)"
   ]
  },
  {
   "cell_type": "code",
   "execution_count": 32,
   "id": "8db1d308",
   "metadata": {},
   "outputs": [
    {
     "name": "stdout",
     "output_type": "stream",
     "text": [
      "True\n",
      "True\n"
     ]
    }
   ],
   "source": [
    "def no_duplicate_letters(s):\n",
    "    ls = s.split(\" \")\n",
    "    result = []\n",
    "    for i in ls:\n",
    "        \n",
    "\n",
    "no_duplicate_letters(\"You can lead a horse to water, but you can't make him drink.\")\n",
    "no_duplicate_letters(\"Look before you leap.\")"
   ]
  },
  {
   "cell_type": "code",
   "execution_count": 30,
   "id": "a3fddf27",
   "metadata": {},
   "outputs": [
    {
     "name": "stdout",
     "output_type": "stream",
     "text": [
      "13\n",
      "13\n"
     ]
    }
   ],
   "source": [
    "s=\"You can lead a horse to water, but you can't make him drink.\"\n",
    "ls = s.split(\" \")\n",
    "special = [',','.','!']\n",
    "t = []\n",
    "for i in ls:\n",
    "    if i[-1] in special:\n",
    "        t.append(i[:-1])\n",
    "    else:\n",
    "            t.append(i)\n",
    "print(len(t))\n",
    "print(len(set(t)))"
   ]
  },
  {
   "cell_type": "code",
   "execution_count": null,
   "id": "bf3c32b5",
   "metadata": {},
   "outputs": [],
   "source": []
  },
  {
   "cell_type": "code",
   "execution_count": null,
   "id": "8adb067e",
   "metadata": {},
   "outputs": [],
   "source": []
  }
 ],
 "metadata": {
  "kernelspec": {
   "display_name": "Python 3",
   "language": "python",
   "name": "python3"
  },
  "language_info": {
   "codemirror_mode": {
    "name": "ipython",
    "version": 3
   },
   "file_extension": ".py",
   "mimetype": "text/x-python",
   "name": "python",
   "nbconvert_exporter": "python",
   "pygments_lexer": "ipython3",
   "version": "3.8.8"
  }
 },
 "nbformat": 4,
 "nbformat_minor": 5
}
