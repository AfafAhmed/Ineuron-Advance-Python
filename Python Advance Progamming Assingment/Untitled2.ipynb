{
 "cells": [
  {
   "cell_type": "code",
   "execution_count": 3,
   "id": "eb465bf7",
   "metadata": {},
   "outputs": [
    {
     "name": "stdout",
     "output_type": "stream",
     "text": [
      "[]\n"
     ]
    }
   ],
   "source": [
    "l = [i for i in range(5,0)]\n",
    "print(l)"
   ]
  },
  {
   "cell_type": "code",
   "execution_count": 22,
   "id": "6757ac01",
   "metadata": {},
   "outputs": [
    {
     "name": "stdout",
     "output_type": "stream",
     "text": [
      "['2344b', '832u32', '932c']\n"
     ]
    }
   ],
   "source": [
    "l = [\"932c\", \"832u32\", \"2344b\"]\n",
    "c = sorted(l,reverse=False)\n",
    "print(c)"
   ]
  },
  {
   "cell_type": "code",
   "execution_count": 19,
   "id": "551b6fff",
   "metadata": {},
   "outputs": [
    {
     "name": "stdout",
     "output_type": "stream",
     "text": [
      "['y', 'u', 'p', 'f', 'b', 'a', '8', '7', '5', '3', '2']\n"
     ]
    }
   ],
   "source": [
    "l = ['b','a','f','y','u','p','3','5','7','2','8']\n",
    "c = sorted(l,reverse=True)\n",
    "print(c)"
   ]
  },
  {
   "cell_type": "code",
   "execution_count": 25,
   "id": "76edd3b5",
   "metadata": {},
   "outputs": [
    {
     "name": "stdout",
     "output_type": "stream",
     "text": [
      "['2344b', '932c', '832u32']\n"
     ]
    }
   ],
   "source": [
    "def alphabet(s):\n",
    "    for i in range(len(s)):\n",
    "        if(s[i].isnumeric()):\n",
    "            pass\n",
    "        else:\n",
    "            return i\n",
    "def sort_by_letter(ls):\n",
    "    result = sorted(ls, key=alphabet,reverse=True)\n",
    "    print(result)\n",
    "  \n",
    "\n",
    "sort_by_letter([\"932c\", \"832u32\", \"2344b\"])"
   ]
  },
  {
   "cell_type": "code",
   "execution_count": 26,
   "id": "6e241a59",
   "metadata": {},
   "outputs": [
    {
     "name": "stdout",
     "output_type": "stream",
     "text": [
      "A\n"
     ]
    }
   ],
   "source": [
    "ls = [\"AB\", \"CA\", \"AB\"]\n",
    "print(ls[0][0])"
   ]
  },
  {
   "cell_type": "code",
   "execution_count": 27,
   "id": "3ff41b50",
   "metadata": {},
   "outputs": [
    {
     "name": "stdout",
     "output_type": "stream",
     "text": [
      "A\n"
     ]
    }
   ],
   "source": [
    "def cup_swapping(ls):\n",
    "    result = ls[0][0]\n",
    "    i=1\n",
    "    while i <= (len(ls)-1):\n",
    "        if(result==ls[i][1]):\n",
    "            result == ls[i][0]\n",
    "        i = i+1\n",
    "    print(result)\n",
    "    \n",
    "cup_swapping([\"AB\", \"CA\", \"AB\"])"
   ]
  },
  {
   "cell_type": "code",
   "execution_count": 12,
   "id": "cc0bf681",
   "metadata": {},
   "outputs": [
    {
     "data": {
      "text/plain": [
       "'juijnjl'"
      ]
     },
     "execution_count": 12,
     "metadata": {},
     "output_type": "execute_result"
    }
   ],
   "source": [
    "\"ljnjiuj\"[::-1]"
   ]
  },
  {
   "cell_type": "code",
   "execution_count": 19,
   "id": "41dfa878",
   "metadata": {},
   "outputs": [
    {
     "name": "stdout",
     "output_type": "stream",
     "text": [
      "1103\n"
     ]
    }
   ],
   "source": [
    "def meme_sum(a,b):\n",
    "    r = \"\"\n",
    "    sm = \"\"\n",
    "    if a > b:\n",
    "        r = str(a)[::-1]\n",
    "        sm = str(b)[::-1]\n",
    "    else :\n",
    "        r = str(b)[::-1]\n",
    "        sm = str(a)[::-1]\n",
    "    ls = []\n",
    "    for i in range(len(r)):\n",
    "        if i <= (len(sm)-1):\n",
    "            ls.append(str(int(r[i])+int(sm[i])))\n",
    "        else:\n",
    "            ls.append(r[i])\n",
    "    print(''.join(ls[::-1]))\n",
    "    \n",
    "meme_sum(122, 81)"
   ]
  },
  {
   "cell_type": "code",
   "execution_count": 21,
   "id": "2fbae183",
   "metadata": {},
   "outputs": [
    {
     "name": "stdout",
     "output_type": "stream",
     "text": [
      "057657\n"
     ]
    }
   ],
   "source": [
    "a = '57657'\n",
    "a = '0'+a\n",
    "print(a)"
   ]
  },
  {
   "cell_type": "code",
   "execution_count": 32,
   "id": "3d0e42df",
   "metadata": {},
   "outputs": [
    {
     "name": "stdout",
     "output_type": "stream",
     "text": [
      "Box 1 = [2, 1, 2, 5]\n",
      "Box 2 = [2, 1, 2, 5]\n",
      "Box 3 = [2, 1, 2, 5]\n",
      "Box 4 = [2, 1, 2, 5]\n",
      "Box 5 = [2, 1, 2, 5]\n",
      "Box 6 = [2, 1, 2, 5]\n",
      "Box 7 = [2, 1, 2, 5]\n",
      "Box 8 = [2, 1, 2, 5]\n"
     ]
    }
   ],
   "source": [
    "def boxes(ls):\n",
    "    r = []\n",
    "    i = 0 \n",
    "    result = []\n",
    "    while i <= (len(ls)-1):\n",
    "        if (sum(r)+ls[i]) <= 10:\n",
    "            r.append(ls[i])\n",
    "            i = i+1\n",
    "        else:\n",
    "            result.append(r)\n",
    "            i =i+1\n",
    "        #i = i+1\n",
    "    for i in range(len(result)):\n",
    "        print(f\"Box {i+1} = {result[i]}\")\n",
    "\n",
    "boxes([2, 1, 2, 5, 4, 3, 6, 1, 1, 9, 3, 2])              "
   ]
  },
  {
   "cell_type": "code",
   "execution_count": 26,
   "id": "d1c3cc86",
   "metadata": {},
   "outputs": [
    {
     "data": {
      "text/plain": [
       "0"
      ]
     },
     "execution_count": 26,
     "metadata": {},
     "output_type": "execute_result"
    }
   ],
   "source": [
    "sum([])"
   ]
  },
  {
   "cell_type": "code",
   "execution_count": 5,
   "id": "c9f677b6",
   "metadata": {},
   "outputs": [
    {
     "name": "stdout",
     "output_type": "stream",
     "text": [
      "['s', 't', 'r', 'i', 'i', 'n', 'g']\n"
     ]
    }
   ],
   "source": [
    "l = list(\"striing\")\n",
    "print(l)"
   ]
  },
  {
   "cell_type": "code",
   "execution_count": 6,
   "id": "3c065a0e",
   "metadata": {},
   "outputs": [
    {
     "data": {
      "text/plain": [
       "3"
      ]
     },
     "execution_count": 6,
     "metadata": {},
     "output_type": "execute_result"
    }
   ],
   "source": [
    "l.index('i')"
   ]
  },
  {
   "cell_type": "code",
   "execution_count": 10,
   "id": "454a95f1",
   "metadata": {},
   "outputs": [
    {
     "data": {
      "text/plain": [
       "'i'"
      ]
     },
     "execution_count": 10,
     "metadata": {},
     "output_type": "execute_result"
    }
   ],
   "source": [
    "l.pop(3)"
   ]
  },
  {
   "cell_type": "code",
   "execution_count": 8,
   "id": "25edf3c9",
   "metadata": {},
   "outputs": [
    {
     "data": {
      "text/plain": [
       "['s', 't', 'r', 'i', 'n', 'g']"
      ]
     },
     "execution_count": 8,
     "metadata": {},
     "output_type": "execute_result"
    }
   ],
   "source": [
    "a = \n",
    "r2 = [i for i in range(1,a+1)]\n",
    "print(r2)"
   ]
  },
  {
   "cell_type": "code",
   "execution_count": 14,
   "id": "2996235a",
   "metadata": {},
   "outputs": [
    {
     "name": "stdout",
     "output_type": "stream",
     "text": [
      "['d20', 'p40', 'p60', 'd50']\n"
     ]
    }
   ],
   "source": [
    "s = \"d20,p40,p60,d50\".split(\",\")\n",
    "print(s)"
   ]
  },
  {
   "cell_type": "code",
   "execution_count": 5,
   "id": "14d4eb54",
   "metadata": {},
   "outputs": [
    {
     "data": {
      "text/plain": [
       "1"
      ]
     },
     "execution_count": 5,
     "metadata": {},
     "output_type": "execute_result"
    }
   ],
   "source": [
    "min([4, 1, 4])"
   ]
  },
  {
   "cell_type": "code",
   "execution_count": 4,
   "id": "0c99ba19",
   "metadata": {},
   "outputs": [
    {
     "data": {
      "text/plain": [
       "25.0"
      ]
     },
     "execution_count": 4,
     "metadata": {},
     "output_type": "execute_result"
    }
   ],
   "source": [
    "100/4"
   ]
  },
  {
   "cell_type": "code",
   "execution_count": 10,
   "id": "82dd0e5d",
   "metadata": {},
   "outputs": [
    {
     "name": "stdout",
     "output_type": "stream",
     "text": [
      "show_the_love([4, 1, 4]) ➞ [3.0, 3.0, 3.0]\n",
      "show_the_love([16, 10, 8]) ➞ [12.0, 7.5, 14.5]\n",
      "show_the_love([2, 100]) ➞ [27.0, 75.0]\n"
     ]
    }
   ],
   "source": [
    "def show_the_love(ls):\n",
    "    n = min(ls)\n",
    "    l = ls.copy()\n",
    "    count = 0\n",
    "    for i in range(len(ls)):\n",
    "        if ls[i] != n:\n",
    "            count += ls[i]/4\n",
    "            ls[i] = (ls[i]*3)/4\n",
    "    for i in range(len(ls)):\n",
    "        if ls[i] == n:\n",
    "            ls[i] = ls[i]+count\n",
    "    print(f'show_the_love({l}) ➞ {ls}')\n",
    "    \n",
    "show_the_love([4, 1, 4])\n",
    "show_the_love([16, 10, 8])\n",
    "show_the_love([2, 100])"
   ]
  },
  {
   "cell_type": "code",
   "execution_count": 43,
   "id": "606d83ed",
   "metadata": {},
   "outputs": [
    {
     "name": "stdout",
     "output_type": "stream",
     "text": [
      "letters(sharp,soap) ➞[aps,hr,o]\n",
      "letters(board,bored) ➞[bdor,a,e]\n",
      "letters(happiness,envelope) ➞[enp,ahis,lov]\n",
      "letters(kerfuffle,fluffy) ➞[flu,ekr,y]\n"
     ]
    }
   ],
   "source": [
    "def letters(s,t):\n",
    "    r1 = set()\n",
    "    r2 = set()\n",
    "    r3 = set()\n",
    "    for i in s:\n",
    "        if i in t:\n",
    "            r1.add(i)\n",
    "        else:\n",
    "            r2.add(i)\n",
    "    for i in t:\n",
    "        if i not in s:\n",
    "            r3.add(i)\n",
    "    print(f'letters({s},{t}) ➞[{\"\".join(sorted(r1))},{\"\".join(sorted(r2))},{\"\".join(sorted(r3))}]')\n",
    " \n",
    "letters(\"sharp\", \"soap\")\n",
    "letters(\"board\", \"bored\")\n",
    "letters(\"happiness\", \"envelope\")\n",
    "letters(\"kerfuffle\", \"fluffy\")"
   ]
  },
  {
   "cell_type": "code",
   "execution_count": 46,
   "id": "08ca81a1",
   "metadata": {},
   "outputs": [
    {
     "name": "stdout",
     "output_type": "stream",
     "text": [
      "letters(sharp,soap) ➞[aps,hr,o]\n",
      "letters(board,bored) ➞[bdor,a,e]\n",
      "letters(happiness,envelope) ➞[enp,ahis,lov]\n",
      "letters(kerfuffle,fluffy) ➞[flu,ekr,y]\n"
     ]
    }
   ],
   "source": [
    "s=\"sharp\"\n",
    "t=\"soap\"\n",
    "s1 = set(s)\n",
    "s2 = set(t)\n",
    "print(s1,s2)\n",
    "r1 =s1.intersection(s2)\n",
    "r2 = s1.difference(s2)\n",
    "r3 = s2.difference(s1)\n",
    "print(r1,r2,r3)"
   ]
  },
  {
   "cell_type": "code",
   "execution_count": 59,
   "id": "b76c50d4",
   "metadata": {},
   "outputs": [
    {
     "name": "stdout",
     "output_type": "stream",
     "text": [
      "[[1, 7], [2, 6], [3, 5], [4, 4]]\n"
     ]
    }
   ],
   "source": [
    "l = [1, 2, 3, 4, 5, 6, 7]\n",
    "r = len(l)/2\n",
    "ls = []\n",
    "for i in range(len(l)):\n",
    "    if i < r:\n",
    "        ls.append([l[i],l[(len(l)-1)-i]])\n",
    "print(ls)"
   ]
  },
  {
   "cell_type": "code",
   "execution_count": 51,
   "id": "45289c20",
   "metadata": {},
   "outputs": [
    {
     "data": {
      "text/plain": [
       "range(0, 3)"
      ]
     },
     "execution_count": 51,
     "metadata": {},
     "output_type": "execute_result"
    }
   ],
   "source": [
    "range(int(3.5))"
   ]
  },
  {
   "cell_type": "code",
   "execution_count": 11,
   "id": "f498f1ea",
   "metadata": {},
   "outputs": [
    {
     "name": "stdout",
     "output_type": "stream",
     "text": [
      "['-', '-', '-', '-', '-']\n"
     ]
    }
   ],
   "source": [
    "l = [\"-\"]*5\n",
    "print(l)"
   ]
  },
  {
   "cell_type": "code",
   "execution_count": 16,
   "id": "ae4f0a22",
   "metadata": {},
   "outputs": [
    {
     "name": "stdout",
     "output_type": "stream",
     "text": [
      "helicopter\n"
     ]
    }
   ],
   "source": [
    "l ='helicopter'.\n",
    "l.replace(\"e\",\"-\")\n",
    "print(l)"
   ]
  }
 ],
 "metadata": {
  "kernelspec": {
   "display_name": "Python 3",
   "language": "python",
   "name": "python3"
  },
  "language_info": {
   "codemirror_mode": {
    "name": "ipython",
    "version": 3
   },
   "file_extension": ".py",
   "mimetype": "text/x-python",
   "name": "python",
   "nbconvert_exporter": "python",
   "pygments_lexer": "ipython3",
   "version": "3.8.8"
  }
 },
 "nbformat": 4,
 "nbformat_minor": 5
}
