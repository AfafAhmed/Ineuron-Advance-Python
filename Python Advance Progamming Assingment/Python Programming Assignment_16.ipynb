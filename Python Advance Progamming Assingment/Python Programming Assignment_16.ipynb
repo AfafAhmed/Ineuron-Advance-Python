{
 "cells": [
  {
   "cell_type": "markdown",
   "id": "438d9b0e",
   "metadata": {},
   "source": [
    "# Python Advance Programming Assignment 16 Solutions"
   ]
  },
  {
   "cell_type": "markdown",
   "id": "03fc42d4",
   "metadata": {},
   "source": [
    "#### 1. Rondo Form is a type of musical structure, in which there is a recurring theme/refrain, notated as A. Here are the rules for valid rondo forms:\n",
    "\n",
    "   - Rondo forms always start and end with an A section.\n",
    "   - In between the A sections, there should be contrasting sections notated as B, then C, then D, etc... No letter should be skipped.\n",
    "   - There shouldn't be any repeats in the sequence (such as ABBACCA).\n",
    "\n",
    "Create a function which validates whether a given string is a valid Rondo Form.\n",
    "\n",
    "**Examples:**   \n",
    "`valid_rondo(\"ABACADAEAFAGAHAIAJA\") ➞ True`  \n",
    "`valid_rondo(\"ABA\") ➞ True`  \n",
    "`valid_rondo(\"ABBACCA\") ➞ False`  \n",
    "`valid_rondo(\"ACAC\") ➞ False`  \n",
    "`valid_rondo(\"A\") ➞ False`   "
   ]
  },
  {
   "cell_type": "code",
   "execution_count": 2,
   "id": "2c0508e5",
   "metadata": {},
   "outputs": [
    {
     "name": "stdout",
     "output_type": "stream",
     "text": [
      "valid_rondo(ABACADAEAFAGAHAIAJA) --> True\n",
      "valid_rondo(ABA) --> True\n",
      "valid_rondo(ABBACCA) --> False\n",
      "valid_rondo(ACAC) --> False\n",
      "valid_rondo(A) --> False\n"
     ]
    }
   ],
   "source": [
    "def valid_rondo(s):\n",
    "    t = \"BCDEFGHIJKLMNOPQRSTUVWXYZ\"\n",
    "    r = \"\"\n",
    "    result = False\n",
    "    if(s[0] and s[-1] == 'A'):\n",
    "        for i in s:\n",
    "            if(i != \"A\"):\n",
    "                r += i\n",
    "        if(r in t and len(s) > 1):\n",
    "            result = True\n",
    "            print(f'valid_rondo({s}) --> {result}')\n",
    "        else:\n",
    "            print(f'valid_rondo({s}) --> {result}')\n",
    "    else:\n",
    "            print(f'valid_rondo({s}) --> {result}')\n",
    "            \n",
    "valid_rondo(\"ABACADAEAFAGAHAIAJA\")\n",
    "valid_rondo(\"ABA\")\n",
    "valid_rondo(\"ABBACCA\")\n",
    "valid_rondo(\"ACAC\")\n",
    "valid_rondo(\"A\")   "
   ]
  },
  {
   "cell_type": "markdown",
   "id": "66fbf8b6",
   "metadata": {},
   "source": [
    "#### 2. Create a function that returns the whole of the first sentence which contains a specific word. Include the full stop at the end of the sentence.\n",
    "**Examples:**   \n",
    "`txt = \"I have a cat. I have a mat. Things are going swell.\"`  \n",
    "`sentence_searcher(txt, \"have\") ➞ \"I have a cat.\"`  \n",
    "`sentence_searcher(txt, \"MAT\") ➞ \"I have a mat.\"`  \n",
    "`sentence_searcher(txt, \"things\") ➞ \"Things are going swell.\"`  \n",
    "`sentence_searcher(txt, \"flat\") ➞ \"\"`  "
   ]
  },
  {
   "cell_type": "code",
   "execution_count": 3,
   "id": "9aa0f367",
   "metadata": {},
   "outputs": [
    {
     "name": "stdout",
     "output_type": "stream",
     "text": [
      "sentence_searcher(('I have a cat. I have a mat. Things are going swell.', 'have')) --> I have a cat\n",
      "sentence_searcher(('I have a cat. I have a mat. Things are going swell.', 'MAT')) -->  I have a mat\n",
      "sentence_searcher(('I have a cat. I have a mat. Things are going swell.', 'things')) -->  Things are going swell\n",
      "sentence_searcher(('I have a cat. I have a mat. Things are going swell.', 'flat')) --> \n"
     ]
    }
   ],
   "source": [
    "def sentence_searcher(txt,s):\n",
    "    ls = txt.split(\".\")\n",
    "    t = \"\"\n",
    "    for i in ls:\n",
    "        if(s.lower() in i.lower()):\n",
    "            t += i\n",
    "            break\n",
    "\n",
    "    print(f'sentence_searcher({txt,s}) --> {t}')       \n",
    "\n",
    "sentence_searcher(\"I have a cat. I have a mat. Things are going swell.\", \"have\")\n",
    "sentence_searcher(\"I have a cat. I have a mat. Things are going swell.\", \"MAT\")\n",
    "sentence_searcher(\"I have a cat. I have a mat. Things are going swell.\", \"things\")\n",
    "sentence_searcher(\"I have a cat. I have a mat. Things are going swell.\", \"flat\")"
   ]
  },
  {
   "cell_type": "markdown",
   "id": "451d8a81",
   "metadata": {},
   "source": [
    "#### 3. Given a number, find the \"round \"of each digit of the number. An integer is called \"round\" if all its digits except the leftmost (most significant) are equal to zero.\n",
    "    - Round numbers: 4000, 1, 9, 800, 90\n",
    "    - Not round numbers: 110, 707, 222, 1001\n",
    "Create a function that takes a number and returns the \"round\" of each digit (except if the digit is zero) as a string. Check out the following examples for more clarification.\n",
    "\n",
    "**Examples:**   \n",
    "`sum_round(101) ➞ \"1 100\"`   \n",
    "`sum_round(1234) ➞ \"4 30 200 1000\"`  \n",
    "`sum_round(54210) ➞ \"10 200 4000 50000\"`  "
   ]
  },
  {
   "cell_type": "code",
   "execution_count": 5,
   "id": "55139433",
   "metadata": {},
   "outputs": [
    {
     "name": "stdout",
     "output_type": "stream",
     "text": [
      "sum_round(101) --> 1 100\n",
      "sum_round(1234) --> 4 30 200 1000\n",
      "sum_round(54210) --> 10 200 4000 50000\n"
     ]
    }
   ],
   "source": [
    "def sum_round(n):\n",
    "    ls = []\n",
    "    s = str(n)\n",
    "    for i in range(len(s)):\n",
    "        if(s[i] != '0'):\n",
    "            ls.append(s[i]+'0'*(len(s[i:])-1))\n",
    "    print(f'sum_round({n}) --> {\" \".join(ls[::-1])}')  \n",
    "    \n",
    "sum_round(101)\n",
    "sum_round(1234)\n",
    "sum_round(54210)"
   ]
  },
  {
   "cell_type": "markdown",
   "id": "903e0527",
   "metadata": {},
   "source": [
    "#### 4. Your task, is to create N x N multiplication table, of size n provided in parameter.\n",
    "For example, when n is 5, the multiplication table is:\n",
    "   - 1, 2, 3, 4, 5\n",
    "   - 2, 4, 6, 8, 10\n",
    "   - 3, 6, 9, 12, 15\n",
    "   - 4, 8, 12, 16, 20\n",
    "   - 5, 10, 15, 20, 25\n",
    "   \n",
    "This example will result in:`[[1, 2, 3, 4, 5], [2, 4, 6, 8, 10], [3, 6, 9, 12, 15], [4, 8, 12, 16, 20], [5, 10, 15, 20, 25]]`  \n",
    "**Examples:**   \n",
    "`multiplication_table(1) ➞ [[1]]`   \n",
    "`multiplication_table(3) ➞ [[1, 2, 3], [2, 4, 6], [3, 6, 9]]`  "
   ]
  },
  {
   "cell_type": "code",
   "execution_count": 6,
   "id": "0e2f62ea",
   "metadata": {},
   "outputs": [
    {
     "name": "stdout",
     "output_type": "stream",
     "text": [
      "multiplication_table(3) ➞ [[1, 2, 3], [2, 4, 6], [3, 6, 9]]\n",
      "multiplication_table(1) ➞ [[1]]\n",
      "multiplication_table(5) ➞ [[1, 2, 3, 4, 5], [2, 4, 6, 8, 10], [3, 6, 9, 12, 15], [4, 8, 12, 16, 20], [5, 10, 15, 20, 25]]\n"
     ]
    }
   ],
   "source": [
    "def multiplication_table(in_num):\n",
    "    out_list =[]\n",
    "    for a in range(1,in_num+1):\n",
    "        temp_list = []\n",
    "        for b in range(1,in_num+1):\n",
    "            temp_list.append(a*b)\n",
    "        out_list.append(temp_list)\n",
    "    print(f'multiplication_table({in_num}) ➞ {out_list}')\n",
    "        \n",
    "multiplication_table(3) \n",
    "multiplication_table(1)\n",
    "multiplication_table(5)\n",
    "        "
   ]
  },
  {
   "cell_type": "markdown",
   "id": "70635142",
   "metadata": {},
   "source": [
    "#### 5. Create a function that returns True if two lines rhyme and False otherwise. For the purposes of this exercise, two lines rhyme if the last word from each sentence contains the same vowels.\n",
    "**Examples:**   \n",
    "`does_rhyme(\"Sam I am!\", \"Green eggs and ham.\") ➞ True`  \n",
    "`does_rhyme(\"Sam I am!\", \"Green eggs and HAM.\") ➞ True`   \n",
    "`# Capitalization and punctuation should not matter.`  \n",
    "`does_rhyme(\"You are off to the races\", \"a splendid day.\") ➞ False`  \n",
    "`does_rhyme(\"and frequently do?\", \"you gotta move.\") ➞ False`  "
   ]
  },
  {
   "cell_type": "code",
   "execution_count": 7,
   "id": "7657e9b1",
   "metadata": {},
   "outputs": [
    {
     "name": "stdout",
     "output_type": "stream",
     "text": [
      "does_rhyme('Sam I am!', 'Green eggs and ham.') ➞ True\n",
      "does_rhyme('Sam I am!', 'Green eggs and HAM.') ➞ True\n",
      "does_rhyme('You are off to the races', 'a splendid day.') ➞ False\n",
      "does_rhyme('and frequently do?', 'you gotta move.') ➞ False\n"
     ]
    }
   ],
   "source": [
    "def does_rhyme(in_one,in_two):\n",
    "    vowels = 'aeiou'\n",
    "    output= False\n",
    "    in_one_rhyme = [x.lower() for x in in_one.split(\" \")[-1] if x.lower() in vowels]\n",
    "    in_two_rhyme = [x.lower() for x in in_two.split(\" \")[-1] if x.lower() in vowels]\n",
    "    if in_one_rhyme == in_two_rhyme:\n",
    "        output = True\n",
    "    print(f'does_rhyme{in_one,in_two} ➞ {output}')\n",
    "    \n",
    "does_rhyme(\"Sam I am!\", \"Green eggs and ham.\")\n",
    "does_rhyme(\"Sam I am!\", \"Green eggs and HAM.\")\n",
    "does_rhyme(\"You are off to the races\", \"a splendid day.\")\n",
    "does_rhyme(\"and frequently do?\", \"you gotta move.\")"
   ]
  },
  {
   "cell_type": "code",
   "execution_count": null,
   "id": "d37e3d85",
   "metadata": {},
   "outputs": [],
   "source": []
  }
 ],
 "metadata": {
  "kernelspec": {
   "display_name": "Python 3",
   "language": "python",
   "name": "python3"
  },
  "language_info": {
   "codemirror_mode": {
    "name": "ipython",
    "version": 3
   },
   "file_extension": ".py",
   "mimetype": "text/x-python",
   "name": "python",
   "nbconvert_exporter": "python",
   "pygments_lexer": "ipython3",
   "version": "3.8.8"
  }
 },
 "nbformat": 4,
 "nbformat_minor": 5
}
