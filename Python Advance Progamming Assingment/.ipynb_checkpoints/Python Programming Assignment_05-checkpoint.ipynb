{
 "cells": [
  {
   "cell_type": "markdown",
   "id": "e44198a7",
   "metadata": {},
   "source": [
    "# Python Advance Programming Assignment 05 Solutions"
   ]
  },
  {
   "cell_type": "markdown",
   "id": "d9336fa7",
   "metadata": {},
   "source": [
    "#### 1.Create a function that takes a number n (integer greater than zero) as an argument, and returns 2 if n is odd and 8 if n is even. \n",
    "You can only use the following arithmetic operators:  \n",
    "`addition of numbers +, \n",
    "subtraction of numbers -, \n",
    "multiplication of number *, \n",
    "division of number /, \n",
    "and exponentiation **.`  \n",
    "You are not allowed to use any other methods in this challenge (i.e. no if statements, comparison operators, etc).  \n",
    "**Examples:**   \n",
    "`f(1) ➞ 2`  \n",
    "`f(2) ➞ 8`  \n",
    "`f(3) ➞ 2` "
   ]
  },
  {
   "cell_type": "code",
   "execution_count": 2,
   "id": "d2b2fd45",
   "metadata": {},
   "outputs": [
    {
     "name": "stdout",
     "output_type": "stream",
     "text": [
      "f(1)➞ 2\n",
      "f(2)➞ 8\n",
      "f(3)➞ 2\n"
     ]
    }
   ],
   "source": [
    "def f(in_num):\n",
    "    output = [8,2]\n",
    "    print(f'f({in_num})➞ {output[in_num&1]}')\n",
    "    \n",
    "f(1)\n",
    "f(2)\n",
    "f(3)"
   ]
  },
  {
   "cell_type": "markdown",
   "id": "1201e3a6",
   "metadata": {},
   "source": [
    "#### 2.Create a function that returns the majority vote in a list. A majority vote is an element that occurs > N/2 times in a list (where N is the length of the list).\n",
    "**Examples:**   \n",
    "`majority_vote([\"A\", \"A\", \"B\"]) ➞ \"A\"`  \n",
    "`majority_vote([\"A\", \"A\", \"A\", \"B\", \"C\", \"A\"]) ➞ \"A\"`  \n",
    "`majority_vote([\"A\", \"B\", \"B\", \"A\", \"C\", \"C\"]) ➞ None`  "
   ]
  },
  {
   "cell_type": "code",
   "execution_count": 9,
   "id": "940db858",
   "metadata": {},
   "outputs": [
    {
     "name": "stdout",
     "output_type": "stream",
     "text": [
      "majority_vote(['A', 'A', 'B']) ➞ A\n",
      "majority_vote(['A', 'A', 'A', 'B', 'C', 'A']) ➞ A\n",
      "majority_vote(['A', 'B', 'B', 'A', 'C', 'C']) ➞ None\n"
     ]
    }
   ],
   "source": [
    "def majority_vote(in_list):\n",
    "    out_list = None\n",
    "    for ele in set(in_list):\n",
    "        if in_list.count(ele) > (len(in_list)/2):\n",
    "            out_list = ele\n",
    "    print(f'majority_vote({in_list}) ➞ {out_list}')\n",
    "    \n",
    "majority_vote([\"A\", \"A\", \"B\"])\n",
    "majority_vote([\"A\", \"A\", \"A\", \"B\", \"C\", \"A\"])\n",
    "majority_vote([\"A\", \"B\", \"B\", \"A\", \"C\", \"C\"])\n",
    "        \n",
    "    "
   ]
  },
  {
   "cell_type": "markdown",
   "id": "3438eb6a",
   "metadata": {},
   "source": [
    "#### 3.Create a function that takes a string txt and censors any word from a given list lst. The text removed must be replaced by the given character char.\n",
    "**Examples:**   \n",
    "`censor_string(\"Today is a Wednesday!\", [\"Today\", \"a\"], \"-\") ➞ \"----- is - Wednesday!\"`  \n",
    "`censor_string(\"The cow jumped over the moon.\", [\"cow\", \"over\"], \"*\"), \"The *** jumped **** the moon.\")`  \n",
    "`censor_string(\"Why did the chicken cross the road ?\", [\"Did\", \"chicken\", \"road\"], \"*\") ➞ \"Why *** the ******* cross the ****?\"`  "
   ]
  },
  {
   "cell_type": "code",
   "execution_count": 8,
   "id": "3f7c8fe3",
   "metadata": {},
   "outputs": [
    {
     "name": "stdout",
     "output_type": "stream",
     "text": [
      "----- is - Wednesday!\n"
     ]
    }
   ],
   "source": [
    "def censor_string(s,l,c):\n",
    "    result = []\n",
    "    ls = s.split(' ')\n",
    "    \n",
    "    for i in ls:\n",
    "        if i in l:\n",
    "            result.append(c*len(i))\n",
    "        else:\n",
    "            result.append(i)\n",
    "    print(\" \".join(result))\n",
    "    \n",
    "censor_string(\"Today is a Wednesday!\", [\"Today\", \"a\"], \"-\")\n",
    "    "
   ]
  },
  {
   "cell_type": "markdown",
   "id": "898c3847",
   "metadata": {},
   "source": [
    "#### 4.In mathematics a Polydivisible Number (or magic number) is a number in a given number base with digits abcde... that has the following properties:\n",
    "- Its first digit a is not 0.\n",
    "- The number formed by its first two digits ab is a multiple of 2.\n",
    "- The number formed by its first three digits abc is a multiple of 3.\n",
    "- The number formed by its first four digits abcd is a multiple of 4.\n",
    "Create a function which takes an integer n and returns True if the given number is a Polydivisible Number and False otherwise. \n",
    "\n",
    "**Examples:**   \n",
    "`is_polydivisible(1232) ➞ True\n",
    "    # 1     / 1 = 1\n",
    "    # 12    / 2 = 6\n",
    "    # 123   / 3 = 41\n",
    "    # 1232  / 4 = 308\n",
    "is_polydivisible(123220 ) ➞ False\n",
    "    # 1   / 1 = 1\n",
    "    # 12   / 2 = 6\n",
    "    # 123   / 3 = 41\n",
    "    # 1232   / 4 = 308\n",
    "    # 12322   / 5 = 2464.4         # Not a Whole Number\n",
    "    # 123220   /6 = 220536.333...  # Not a Whole Number`"
   ]
  },
  {
   "cell_type": "code",
   "execution_count": 14,
   "id": "7cb37d0c",
   "metadata": {},
   "outputs": [
    {
     "name": "stdout",
     "output_type": "stream",
     "text": [
      "True\n",
      "False\n"
     ]
    }
   ],
   "source": [
    "def isPolydivisible(n):\n",
    "    l = []\n",
    "    s = \"\"\n",
    "    output = False\n",
    "    for i in str(n):\n",
    "        s += i\n",
    "        l.append(s)\n",
    "        \n",
    "    for i in range(0,len(l)):\n",
    "        if((int(l[i]) % (i+1)) == 0):\n",
    "            output = True\n",
    "        else:\n",
    "            output = False\n",
    "            break\n",
    "    print(output)\n",
    "    \n",
    "\n",
    "isPolydivisible(1232)\n",
    "isPolydivisible(123220)"
   ]
  },
  {
   "cell_type": "markdown",
   "id": "23b50918",
   "metadata": {},
   "source": [
    "#### 5.. Create a function that takes a list of numbers and returns the sum of all prime numbers in the list.\n",
    "**Examples:**   \n",
    "`sum_primes([1, 2, 3, 4, 5, 6, 7, 8, 9, 10]) ➞ 17`   \n",
    "`sum_primes([2, 3, 4, 11, 20, 50, 71]) ➞ 87`  \n",
    "`sum_primes([]) ➞ None`"
   ]
  },
  {
   "cell_type": "code",
   "execution_count": 15,
   "id": "2dda3529",
   "metadata": {},
   "outputs": [
    {
     "name": "stdout",
     "output_type": "stream",
     "text": [
      "sum_prices([1, 2, 3, 4, 5, 6, 7, 8, 9, 10]) ➞ 17\n",
      "sum_prices([2, 3, 4, 11, 20, 50, 71]) ➞ 87\n",
      "sum_prices([]) ➞ None\n"
     ]
    }
   ],
   "source": [
    "def sum_primes(in_list):\n",
    "    out_string = []\n",
    "    for ele in in_list:\n",
    "        if ele in [2,3]:\n",
    "            out_string.append(ele)\n",
    "        elif ele in [6*n-1 for n in range(0,ele)] or ele in [6*n+1 for n in range(0,ele)]:\n",
    "            out_string.append(ele)\n",
    "    if 1 in out_string:\n",
    "        out_string.remove(1)\n",
    "    print(f'sum_prices({in_list}) ➞ {sum(out_string) if len(out_string) > 0 else None}')\n",
    "        \n",
    "sum_primes([1, 2, 3, 4, 5, 6, 7, 8, 9, 10])\n",
    "sum_primes([2, 3, 4, 11, 20, 50, 71])\n",
    "sum_primes([])"
   ]
  }
 ],
 "metadata": {
  "kernelspec": {
   "display_name": "Python 3",
   "language": "python",
   "name": "python3"
  },
  "language_info": {
   "codemirror_mode": {
    "name": "ipython",
    "version": 3
   },
   "file_extension": ".py",
   "mimetype": "text/x-python",
   "name": "python",
   "nbconvert_exporter": "python",
   "pygments_lexer": "ipython3",
   "version": "3.8.8"
  }
 },
 "nbformat": 4,
 "nbformat_minor": 5
}
