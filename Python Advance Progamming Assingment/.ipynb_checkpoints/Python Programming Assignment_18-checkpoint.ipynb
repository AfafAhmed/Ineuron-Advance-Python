{
 "cells": [
  {
   "cell_type": "markdown",
   "id": "877962b2",
   "metadata": {},
   "source": [
    "# Python Advance Programming Assignment 18 Solutions"
   ]
  },
  {
   "cell_type": "markdown",
   "id": "b2ad8c76",
   "metadata": {},
   "source": [
    "#### 1. A robot has been given a list of movement instructions. Each instruction is either left, right, up or down, followed by a distance to move. The robot starts at [0, 0]. You want to calculate where the robot will end up and return its final position as a list.\n",
    "\n",
    "To illustrate, if the robot is given the following instructions: `[\"right 10\", \"up 50\", \"left 30\", \"down 10\"]`  \n",
    "It will end up 20 left and 40 up from where it started, so we return `[-20, 40].`  \n",
    "\n",
    "**Examples:**   \n",
    "`track_robot([\"right 10\", \"up 50\", \"left 30\", \"down 10\"]) ➞ [-20, 40]`  \n",
    "`track_robot([]) ➞ [0, 0]`  \n",
    "`// If there are no instructions, the robot doesn't move.`  \n",
    "`track_robot([\"right 100\", \"right 100\", \"up 500\", \"up 10000\"]) ➞ [200, 10500]`  "
   ]
  },
  {
   "cell_type": "code",
   "execution_count": 10,
   "id": "6b1a39ef",
   "metadata": {},
   "outputs": [
    {
     "name": "stdout",
     "output_type": "stream",
     "text": [
      "track_robot(['right 10', 'up 50', 'left 30', 'down 10']) --> [-20, 40]\n",
      "track_robot([]) --> [0, 0]\n",
      "track_robot(['right 100', 'right 100', 'up 500', 'up 10000']) --> [200, 10500]\n"
     ]
    }
   ],
   "source": [
    "def track_robot(ls):\n",
    "    l = [0,0]\n",
    "    t1 = ['left','right']\n",
    "    t2 = ['down','up']\n",
    "    \n",
    "    for i in ls:\n",
    "        \n",
    "        x = i.split(\" \") \n",
    "        if(x[0] in t1):\n",
    "            if(x[0] == t1[0]):\n",
    "                l[0] -= int(x[1])\n",
    "            else:\n",
    "                l[0] += int(x[1])\n",
    "        else:\n",
    "            if(x[0] == t2[0]):\n",
    "                l[1] -= int(x[1])\n",
    "            else:\n",
    "                l[1] += int(x[1])\n",
    "    print(f'track_robot({ls}) --> {l}')\n",
    "\n",
    "track_robot([\"right 10\", \"up 50\", \"left 30\", \"down 10\"])\n",
    "track_robot([])\n",
    "track_robot([\"right 100\", \"right 100\", \"up 500\", \"up 10000\"])"
   ]
  },
  {
   "cell_type": "markdown",
   "id": "d3a447b6",
   "metadata": {},
   "source": [
    "#### 2. Write a function that will return the longest word in a sentence. In cases where more than one word is found, return the first one.\n",
    "**Examples:**  \n",
    "`find_longest(\"A thing of beauty is a joy forever.\") ➞ \"forever\"`   \n",
    "`find_longest(\"Forgetfulness is by all means powerless!\") ➞ \"forgetfulness\"`   \n",
    "`find_longest(\"\\\"Strengths\\\" is the longest and most commonly used word that contains only a single vowel.\") ➞ \"strengths\"`  "
   ]
  },
  {
   "cell_type": "code",
   "execution_count": 16,
   "id": "39bfa74f",
   "metadata": {},
   "outputs": [
    {
     "name": "stdout",
     "output_type": "stream",
     "text": [
      "find_longest(A thing of beauty is a joy forever.) --> forever.\n",
      "find_longest(Forgetfulness is by all means powerless!) --> Forgetfulness\n",
      "find_longest(\"Strengths\" is the longest and most commonly used word that contains only a single vowel.) --> \"Strengths\"\n"
     ]
    }
   ],
   "source": [
    "def find_longest(s):\n",
    "    ls = s.split(\" \")\n",
    "    result = []\n",
    "    \n",
    "    for i in ls:\n",
    "        count = 0\n",
    "        for j in i:\n",
    "            if(j.isalpha()):\n",
    "                count += 1\n",
    "        result.append(count)\n",
    "    \n",
    "    print(f'find_longest({s}) --> {ls[result.index(max(result))]}')\n",
    "    \n",
    "find_longest(\"A thing of beauty is a joy forever.\")\n",
    "find_longest(\"Forgetfulness is by all means powerless!\")\n",
    "find_longest(\"\\\"Strengths\\\" is the longest and most commonly used word that contains only a single vowel.\")    "
   ]
  },
  {
   "cell_type": "markdown",
   "id": "4907b28e",
   "metadata": {},
   "source": [
    "#### 3. Create a function to check if a candidate is qualified in an imaginary coding interview of an imaginary tech startup.\n",
    "\n",
    "The criteria for a candidate to be qualified in the coding interview is:\n",
    "   1. The candidate should have complete all the questions.\n",
    "   2. The maximum time given to complete the interview is 120 minutes.\n",
    "   3. The maximum time given for very easy questions is 5 minutes each.\n",
    "   4. The maximum time given for easy questions is 10 minutes each.\n",
    "   5. The maximum time given for medium questions is 15 minutes each.\n",
    "   6. The maximum time given for hard questions is 20 minutes each.\n",
    "\n",
    "If all the above conditions are satisfied, return \"qualified\", else return \"disqualified\".\n",
    "\n",
    "You will be given a list of time taken by a candidate to solve a particular question and the total time taken by the candidate to complete the interview.\n",
    "\n",
    "Given a list , in a true condition will always be in the format `[very easy, very easy, easy, easy, medium, medium, hard, hard].`  \n",
    "\n",
    "The maximum time to complete the interview includes a buffer time of 20 minutes.\n",
    "\n",
    "**Examples:**   \n",
    "`interview([5, 5, 10, 10, 15, 15, 20, 20], 120) ➞ \"qualified\"`  \n",
    "`interview([2, 3, 8, 6, 5, 12, 10, 18], 64) ➞  \"qualified\"`   \n",
    "`interview([5, 5, 10, 10, 25, 15, 20, 20], 120) ➞ \"disqualified\"`  \n",
    "`# Exceeded the time limit for a medium question.`   \n",
    "`interview([5, 5, 10, 10, 15, 15, 20], 120) ➞ \"disqualified\"`   \n",
    "`# Did not complete all the questions.`  \n",
    "`interview([5, 5, 10, 10, 15, 15, 20, 20], 130) ➞ \"disqualified\"`  \n",
    "`# Solved all the questions in their respected time limits but exceeded the total time limit of the interview.`  "
   ]
  },
  {
   "cell_type": "code",
   "execution_count": 20,
   "id": "bbdb8354",
   "metadata": {},
   "outputs": [
    {
     "name": "stdout",
     "output_type": "stream",
     "text": [
      "1st Method\n",
      "interview(([5, 5, 10, 10, 15, 15, 20, 20], 120)) --> qualified\n",
      "interview(([2, 3, 8, 6, 5, 12, 10, 18], 64)) --> qualified\n",
      "interview(([5, 5, 10, 10, 25, 15, 20, 20], 120)) --> disqualified\n",
      "interview(([5, 5, 10, 10, 15, 15, 20], 120)) --> disqualified\n",
      "interview(([5, 5, 10, 10, 15, 15, 20, 20], 130)) --> disqualified\n",
      "\n",
      "2nd Method\n",
      "interview([5, 5, 10, 10, 15, 15, 20, 20], 120) ➞ qualified\n",
      "interview([2, 3, 8, 6, 5, 12, 10, 18], 64) ➞ qualified\n",
      "interview([5, 5, 10, 10, 25, 15, 20, 20], 120) ➞ disqualified\n",
      "interview([5, 5, 10, 10, 15, 15, 20], 120) ➞ disqualified\n",
      "interview([5, 5, 10, 10, 15, 15, 20, 20], 130) ➞ disqualified\n"
     ]
    }
   ],
   "source": [
    "print('1st Method')\n",
    "def interview(ls,n):\n",
    "    result = 'disqualified'\n",
    "    l = [5,5,10,10,15,15,20,20]\n",
    "    count = 0\n",
    "    if(n<= 120 and len(ls) == len(l)):\n",
    "        for i,j in zip(l,ls):\n",
    "            if(i < j):\n",
    "                result = 'disqualified'\n",
    "                break\n",
    "            else:\n",
    "                count += 1\n",
    "                \n",
    "        if(count == len(l)):\n",
    "            result = 'qualified'\n",
    "            \n",
    "    else:\n",
    "        result = 'disqualified'\n",
    "\n",
    "    print(f'interview({ls,n}) --> {result}')\n",
    "interview([5, 5, 10, 10, 15, 15, 20, 20], 120)\n",
    "interview([2, 3, 8, 6, 5, 12, 10, 18], 64)\n",
    "interview([5, 5, 10, 10, 25, 15, 20, 20], 120)\n",
    "# Exceeded the time limit for a medium question.\n",
    "interview([5, 5, 10, 10, 15, 15, 20], 120)\n",
    "interview([5, 5, 10, 10, 15, 15, 20, 20], 130)\n",
    "                \n",
    "print()\n",
    "print(\"2nd Method\")\n",
    "def interview(in_list, in_time):\n",
    "    output = 'qualified'\n",
    "    if in_time > 120 or max(in_list[0:2]) > 5 or max(in_list[2:4]) > 10 or max(in_list[4:6]) > 15 or max(in_list[6:8]) > 20 or len(in_list) != 8:\n",
    "            output = 'disqualified'\n",
    "    print(f'interview{in_list,in_time} ➞ {output}')\n",
    "    \n",
    "interview([5, 5, 10, 10, 15, 15, 20, 20], 120)\n",
    "interview([2, 3, 8, 6, 5, 12, 10, 18], 64)\n",
    "interview([5, 5, 10, 10, 25, 15, 20, 20], 120)\n",
    "interview([5, 5, 10, 10, 15, 15, 20], 120)\n",
    "interview([5, 5, 10, 10, 15, 15, 20, 20], 130)"
   ]
  },
  {
   "cell_type": "markdown",
   "id": "cc6a3cae",
   "metadata": {},
   "source": [
    "#### 4. Write a function that divides a list into chunks of size n, where n is the length of each chunk.\n",
    "**Examples:**   \n",
    "`chunkify([2, 3, 4, 5], 2) ➞ [[2, 3], [4, 5]]`  \n",
    "`chunkify([2, 3, 4, 5, 6], 2) ➞ [[2, 3], [4, 5], [6]]`  \n",
    "`chunkify([2, 3, 4, 5, 6, 7], 3) ➞ [[2, 3, 4], [5, 6, 7]]`  \n",
    "`chunkify([2, 3, 4, 5, 6, 7], 1) ➞ [[2], [3], [4], [5], [6], [7]]`  \n",
    "`chunkify([2, 3, 4, 5, 6, 7], 7) ➞ [[2, 3, 4, 5, 6, 7]]`  "
   ]
  },
  {
   "cell_type": "code",
   "execution_count": 27,
   "id": "f5b8e301",
   "metadata": {},
   "outputs": [
    {
     "name": "stdout",
     "output_type": "stream",
     "text": [
      "chunkify([2, 3, 4, 5], 2) ➞ [[2, 3], [4, 5]]\n",
      "chunkify([2, 3, 4, 5, 6], 2) ➞ [[2, 3], [4, 5], [6]]\n",
      "chunkify([2, 3, 4, 5, 6, 7], 3) ➞ [[2, 3, 4], [5, 6, 7]]\n",
      "chunkify([2, 3, 4, 5, 6, 7], 1) ➞ [[2], [3], [4], [5], [6], [7]]\n",
      "chunkify([2, 3, 4, 5, 6, 7], 7) ➞ [[2, 3, 4, 5, 6, 7]]\n"
     ]
    }
   ],
   "source": [
    "def chunkify(in_list,chunk_size):\n",
    "    output = []\n",
    "    for i in range(0,len(in_list),chunk_size):\n",
    "        output.append(in_list[i:i+chunk_size])\n",
    "    print(f'chunkify{in_list, chunk_size} ➞ {output}')\n",
    "    \n",
    "chunkify([2, 3, 4, 5], 2)   \n",
    "chunkify([2, 3, 4, 5, 6], 2)\n",
    "chunkify([2, 3, 4, 5, 6, 7], 3)\n",
    "chunkify([2, 3, 4, 5, 6, 7], 1)\n",
    "chunkify([2, 3, 4, 5, 6, 7], 7)"
   ]
  },
  {
   "cell_type": "markdown",
   "id": "2a904cb6",
   "metadata": {},
   "source": [
    "#### 5. You are given a list of strings consisting of grocery items, with prices in parentheses. Return a list of prices in float format.\n",
    "**Examples:**   \n",
    "`get_prices([\"salad ($4.99)\"]) ➞ [4.99]`\n",
    "\n",
    "`get_prices([\n",
    "  \"artichokes ($1.99)\",\n",
    "  \"rotiserrie chicken ($5.99)\",\n",
    "  \"gum ($0.75)\"\n",
    "]) ➞ [1.99, 5.99, 0.75]`  \n",
    "\n",
    "`get_prices([\n",
    "  \"ice cream ($5.99)\",\n",
    "  \"banana ($0.20)\",\n",
    "  \"sandwich ($8.50)\",\n",
    "  \"soup ($1.99)\"\n",
    "]) ➞ [5.99, 0.2, 8.50, 1.99]`"
   ]
  },
  {
   "cell_type": "code",
   "execution_count": 28,
   "id": "db7ae2bb",
   "metadata": {},
   "outputs": [
    {
     "name": "stdout",
     "output_type": "stream",
     "text": [
      "get_prices(['salad ($4.99)']) ➞ [4.99]\n",
      "get_prices(['artichokes ($1.99)', 'rotiserrie chicken ($5.99)', 'gum ($0.75)']) ➞ [1.99, 5.99, 0.75]\n",
      "get_prices(['ice cream ($5.99)', 'banana ($0.20)', 'sandwich ($8.50)', 'soup ($1.99)']) ➞ [5.99, 0.2, 8.5, 1.99]\n"
     ]
    }
   ],
   "source": [
    "def get_prices(in_list):\n",
    "    out_list = []\n",
    "    for ele in in_list:\n",
    "        out_list.append(float((ele.split('$')[-1]).split(')')[0]))\n",
    "    print(f'get_prices({in_list}) ➞ {out_list}')\n",
    "        \n",
    "get_prices([\"salad ($4.99)\"])\n",
    "get_prices([\"artichokes ($1.99)\",\"rotiserrie chicken ($5.99)\",\"gum ($0.75)\"])\n",
    "get_prices([\"ice cream ($5.99)\",\"banana ($0.20)\",\"sandwich ($8.50)\",\"soup ($1.99)\"])"
   ]
  }
 ],
 "metadata": {
  "kernelspec": {
   "display_name": "Python 3",
   "language": "python",
   "name": "python3"
  },
  "language_info": {
   "codemirror_mode": {
    "name": "ipython",
    "version": 3
   },
   "file_extension": ".py",
   "mimetype": "text/x-python",
   "name": "python",
   "nbconvert_exporter": "python",
   "pygments_lexer": "ipython3",
   "version": "3.8.8"
  }
 },
 "nbformat": 4,
 "nbformat_minor": 5
}
