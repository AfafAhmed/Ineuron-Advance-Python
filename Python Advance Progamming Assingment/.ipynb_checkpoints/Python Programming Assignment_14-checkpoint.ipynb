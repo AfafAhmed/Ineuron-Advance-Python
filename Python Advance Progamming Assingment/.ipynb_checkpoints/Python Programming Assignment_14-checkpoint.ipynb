{
 "cells": [
  {
   "cell_type": "markdown",
   "id": "527cb3ea",
   "metadata": {},
   "source": [
    "# Python Advance Programming Assignment 14 Solutions"
   ]
  },
  {
   "cell_type": "markdown",
   "id": "ec6d283a",
   "metadata": {},
   "source": [
    "#### 1. Given a list of numbers, create a function that removes 25% from every number in the list except the smallest number, and adds the total amount removed to the smallest number.\n",
    "**Examples:**  \n",
    "`show_the_love([4, 1, 4]) ➞ [3, 3, 3]`  \n",
    "`show_the_love([16, 10, 8]) ➞ [12, 7.5, 14.5]`   \n",
    "`show_the_love([2, 100]) ➞ [27, 75]`   "
   ]
  },
  {
   "cell_type": "code",
   "execution_count": 1,
   "id": "5765453d",
   "metadata": {},
   "outputs": [
    {
     "name": "stdout",
     "output_type": "stream",
     "text": [
      "show_the_love([4, 1, 4]) ➞ [3.0, 3.0, 3.0]\n",
      "show_the_love([16, 10, 8]) ➞ [12.0, 7.5, 14.5]\n",
      "show_the_love([2, 100]) ➞ [27.0, 75.0]\n",
      "show_the_love([5, 8, 9, 2, 2, 4]) ➞ [3.75, 6.0, 6.75, 8.5, 8.5, 3.0]\n"
     ]
    }
   ],
   "source": [
    "def show_the_love(ls):\n",
    "    n = min(ls)\n",
    "    l = ls.copy()\n",
    "    count = 0\n",
    "    for i in range(len(ls)):\n",
    "        if ls[i] != n:\n",
    "            count += ls[i]/4\n",
    "            ls[i] = (ls[i]*3)/4\n",
    "    for i in range(len(ls)):\n",
    "        if ls[i] == n:\n",
    "            ls[i] = ls[i]+count\n",
    "    print(f'show_the_love({l}) ➞ {ls}')\n",
    "    \n",
    "show_the_love([4, 1, 4])\n",
    "show_the_love([16, 10, 8])\n",
    "show_the_love([2, 100])\n",
    "show_the_love([5,8,9,2,2,4])\n",
    "            "
   ]
  },
  {
   "cell_type": "markdown",
   "id": "7862685a",
   "metadata": {},
   "source": [
    "#### 2. Create a function that takes in two words as input and returns a list of three elements, in the following order:\n",
    "\n",
    "   1.Shared letters between two words.\n",
    "   2.Letters unique to word 1.\n",
    "   3.Letters unique to word 2.\n",
    "\n",
    "Each element should have unique letters, and have each letter be alphabetically sorted.\n",
    "\n",
    "**Examples:**  \n",
    "`letters(\"sharp\", \"soap\") ➞ [\"aps\", \"hr\", \"o\"]`  \n",
    "`letters(\"board\", \"bored\") ➞ [\"bdor\", \"a\", \"e\"]`  \n",
    "`letters(\"happiness\", \"envelope\") ➞ [\"enp\", \"ahis\", \"lov\"]`  \n",
    "`letters(\"kerfuffle\", \"fluffy\") ➞ [\"flu\", \"ekr\", \"y\"]`  \n",
    "`# Even with multiple matching letters (e.g. 3 f's), there should`   \n",
    "`# only exist a single \"f\" in your first element.`  \n",
    "`letters(\"match\", \"ham\") ➞ [\"ahm\", \"ct\", \"\"]`  \n",
    "`# \"ham\" does not contain any letters that are not found already`   \n",
    "`# in \"match\".`  "
   ]
  },
  {
   "cell_type": "code",
   "execution_count": 4,
   "id": "36ac377b",
   "metadata": {},
   "outputs": [
    {
     "name": "stdout",
     "output_type": "stream",
     "text": [
      "From Method - 1\n",
      "letters(sharp,soap) ➞[aps,hr,o]\n",
      "letters(board,bored) ➞[bdor,a,e]\n",
      "letters(happiness,envelope) ➞[enp,ahis,lov]\n",
      "letters(kerfuffle,fluffy) ➞[flu,ekr,y]\n",
      "\n",
      "From Method - 2\n",
      "letters(sharp,soap) ➞[aps,hr,o]\n",
      "letters(board,bored) ➞[bdor,a,e]\n",
      "letters(happiness,envelope) ➞[enp,ahis,lov]\n",
      "letters(kerfuffle,fluffy) ➞[flu,ekr,y]\n"
     ]
    }
   ],
   "source": [
    "# Method 1\n",
    "print(\"From Method - 1\")\n",
    "def letters(s,t):\n",
    "    r1 = set()\n",
    "    r2 = set()\n",
    "    r3 = set()\n",
    "    for i in s:\n",
    "        if i in t:\n",
    "            r1.add(i)\n",
    "        else:\n",
    "            r2.add(i)\n",
    "    for i in t:\n",
    "        if i not in s:\n",
    "            r3.add(i)\n",
    "    print(f'letters({s},{t}) ➞[{\"\".join(sorted(r1))},{\"\".join(sorted(r2))},{\"\".join(sorted(r3))}]')\n",
    " \n",
    "letters(\"sharp\", \"soap\")\n",
    "letters(\"board\", \"bored\")\n",
    "letters(\"happiness\", \"envelope\")\n",
    "letters(\"kerfuffle\", \"fluffy\")\n",
    "print()\n",
    "print(\"From Method - 2\")\n",
    "# Method 2\n",
    "def letters(s,t):\n",
    "    r1 = set()\n",
    "    r2 = set()\n",
    "    r3 = set()\n",
    "    for i in s:\n",
    "        if i in t:\n",
    "            r1.add(i)\n",
    "        else:\n",
    "            r2.add(i)\n",
    "    for i in t:\n",
    "        if i not in s:\n",
    "            r3.add(i)\n",
    "    print(f'letters({s},{t}) ➞[{\"\".join(sorted(r1))},{\"\".join(sorted(r2))},{\"\".join(sorted(r3))}]')\n",
    " \n",
    "letters(\"sharp\", \"soap\")\n",
    "letters(\"board\", \"bored\")\n",
    "letters(\"happiness\", \"envelope\")\n",
    "letters(\"kerfuffle\", \"fluffy\")"
   ]
  },
  {
   "cell_type": "markdown",
   "id": "e410b887",
   "metadata": {},
   "source": [
    "#### 3. Write a function that pairs the first number in an array with the last, the second number with the second to last, etc.\n",
    "**Examples:**  \n",
    "`pairs([1, 2, 3, 4, 5, 6, 7]) ➞ [[1, 7], [2, 6], [3, 5], [4, 4]]`   \n",
    "`pairs([1, 2, 3, 4, 5, 6]) ➞ [[1, 6], [2, 5], [3, 4]]`   \n",
    "`pairs([5, 9, 8, 1, 2]) ➞ [[5, 2], [9, 1], [8, 8]]`   \n",
    "`pairs([]) ➞ []`"
   ]
  },
  {
   "cell_type": "code",
   "execution_count": 7,
   "id": "b41001bd",
   "metadata": {},
   "outputs": [
    {
     "name": "stdout",
     "output_type": "stream",
     "text": [
      "pairs([1, 2, 3, 4, 5, 6, 7]) ➞ [[1, 7], [2, 6], [3, 5], [4, 4]]\n",
      "pairs([1, 2, 3, 4, 5, 6]) ➞ [[1, 6], [2, 5], [3, 4]]\n",
      "pairs([5, 9, 8, 1, 2]) ➞ [[5, 2], [9, 1], [8, 8]]\n",
      "pairs([]) ➞ []\n"
     ]
    }
   ],
   "source": [
    "def pairs(l):\n",
    "    ls = []\n",
    "    r = len(l)/2\n",
    "    for i in range(len(l)):\n",
    "        if i < r:\n",
    "            ls.append([l[i],l[(len(l)-1)-i]])\n",
    "    print(f'pairs({l}) ➞ {ls}')\n",
    "    \n",
    "pairs([1, 2, 3, 4, 5, 6, 7])\n",
    "pairs([1, 2, 3, 4, 5, 6])\n",
    "pairs([5, 9, 8, 1, 2])\n",
    "pairs([])    "
   ]
  },
  {
   "cell_type": "markdown",
   "id": "6e9d2e61",
   "metadata": {},
   "source": [
    "#### 4. Write a function that adds two numbers. The catch, however, is that the numbers will be strings.\n",
    "\n",
    "**Examples:**  \n",
    "`add_str_nums(\"4\", \"5\") ➞ \"9\"`     \n",
    "`add_str_nums(\"abcdefg\", \"3\") ➞ \"-1\"`  \n",
    "`add_str_nums(\"1\", \"\") ➞ \"1\"`   \n",
    "`add_str_nums(\"1874682736267235927359283579235789257\", \"32652983572985729\") ➞ \"1874682736267235927391936562808774986\"`"
   ]
  },
  {
   "cell_type": "code",
   "execution_count": 8,
   "id": "931be85d",
   "metadata": {},
   "outputs": [
    {
     "name": "stdout",
     "output_type": "stream",
     "text": [
      "add_str_nums('4', '5') ➞ 9\n",
      "add_str_nums('abcdefg', '3') ➞ -1\n",
      "add_str_nums('1', '0') ➞ 1\n",
      "add_str_nums('1874682736267235927359283579235789257', '32652983572985729') ➞ 1874682736267235927391936562808774986\n"
     ]
    }
   ],
   "source": [
    "def add_str_nums(in_one,in_two):\n",
    "    in_one = in_one if len(in_one) > 0 else \"0\"\n",
    "    in_two = in_two if len(in_two) > 0 else \"0\"\n",
    "    if in_one.isdigit() == False or in_two.isdigit() == False:\n",
    "        output = -1\n",
    "    else: \n",
    "        output = int(in_one)+int(in_two)\n",
    "    print(f'add_str_nums{in_one,in_two} ➞ {str(output)}')\n",
    "        \n",
    "add_str_nums(\"4\", \"5\")\n",
    "add_str_nums(\"abcdefg\", \"3\")\n",
    "add_str_nums(\"1\", \"\")\n",
    "add_str_nums(\"1874682736267235927359283579235789257\", \"32652983572985729\")"
   ]
  },
  {
   "cell_type": "markdown",
   "id": "b29281f5",
   "metadata": {},
   "source": [
    "#### 5. lPaeesh le pemu mnxit ehess rtnisg! Oh, sorry, that was supposed to say: Please help me unmix these strings!\n",
    "\n",
    "Somehow my strings have all become mixed up; every pair of characters has been swapped. Help me undo this so I can understand my strings again.\n",
    "\n",
    "**Examples:**  \n",
    "`unmix(\"123456\") ➞ \"214365\"`   \n",
    "`unmix(\"hTsii  s aimex dpus rtni.g\") ➞ \"This is a mixed up string.\"`  \n",
    "`unmix(\"badce\") ➞ \"abcde\"`   "
   ]
  },
  {
   "cell_type": "code",
   "execution_count": 16,
   "id": "50f3f185",
   "metadata": {},
   "outputs": [
    {
     "name": "stdout",
     "output_type": "stream",
     "text": [
      "unimx(123456) --> 214365\n",
      "unimx(hTsii  s aimex dpus rtni.g) --> This is a mixed up string.\n",
      "unimx(badce) --> abcd\n",
      "\n",
      "unmix(123456) ➞ 214365\n",
      "unmix(hTsii  s aimex dpus rtni.g) ➞ This is a mixed up string.\n",
      "unmix(badce) ➞ abcde\n"
     ]
    }
   ],
   "source": [
    "def unmix(s):\n",
    "    r = []\n",
    "    for i in range(len(s)-1):\n",
    "    \n",
    "        if i%2 == 0:\n",
    "            a = s[i]\n",
    "            b = s[i+1]\n",
    "            r.append(b)\n",
    "            r.append(a)\n",
    "    print(f'unimx({s}) --> {\"\".join(r)}')\n",
    "          \n",
    "unmix(\"123456\")\n",
    "unmix(\"hTsii  s aimex dpus rtni.g\")\n",
    "unmix(\"badce\") \n",
    "\n",
    "#Method 2\n",
    "print()\n",
    "def unmix(in_string):\n",
    "    output = ''\n",
    "    for ele in range(0,len(in_string)-1,2):\n",
    "        output += in_string[ele+1]+in_string[ele]\n",
    "        if (len(in_string)%2 != 0 and ele == len(in_string)//2 ):\n",
    "            output += in_string[-1]       \n",
    "    print(f'unmix({in_string}) ➞ {output}')\n",
    "\n",
    "unmix(\"123456\")\n",
    "unmix(\"hTsii  s aimex dpus rtni.g\")\n",
    "unmix(\"badce\")"
   ]
  }
 ],
 "metadata": {
  "kernelspec": {
   "display_name": "Python 3",
   "language": "python",
   "name": "python3"
  },
  "language_info": {
   "codemirror_mode": {
    "name": "ipython",
    "version": 3
   },
   "file_extension": ".py",
   "mimetype": "text/x-python",
   "name": "python",
   "nbconvert_exporter": "python",
   "pygments_lexer": "ipython3",
   "version": "3.8.8"
  }
 },
 "nbformat": 4,
 "nbformat_minor": 5
}
