{
 "cells": [
  {
   "cell_type": "code",
   "execution_count": 10,
   "id": "b3bab1af",
   "metadata": {},
   "outputs": [
    {
     "name": "stdout",
     "output_type": "stream",
     "text": [
      "2018-03-13 00:00:00\n",
      "<class 'str'>\n",
      "day: Tuesday\n"
     ]
    }
   ],
   "source": [
    "from datetime import datetime\n",
    "date_string = \"13 3, 2018\"\n",
    "date_object = datetime.strptime(date_string, \"%d %m, %Y\")\n",
    "print(date_object)\n",
    "day = date_object.strftime(\"%A\")\n",
    "print(type(day))\n",
    "print(\"day:\", day)"
   ]
  },
  {
   "cell_type": "code",
   "execution_count": 14,
   "id": "472b3666",
   "metadata": {},
   "outputs": [
    {
     "name": "stdout",
     "output_type": "stream",
     "text": [
      "[\"cow\", \"pig\", \"cow\", \"cow\"]\n",
      "['pig', 'cows']\n"
     ]
    }
   ],
   "source": [
    "def pluralize(ls):\n",
    "    l = []\n",
    "    sets = set(ls)\n",
    "    for i in sets:\n",
    "        if(ls.count(i)>1):\n",
    "            l.append(i+\"s\")\n",
    "        else:\n",
    "            l.append(i)\n",
    "    print(l)\n",
    "pluralize(eval(input()))"
   ]
  },
  {
   "cell_type": "code",
   "execution_count": 22,
   "id": "bfefbd9c",
   "metadata": {},
   "outputs": [
    {
     "name": "stdout",
     "output_type": "stream",
     "text": [
      "12 / 0\n"
     ]
    },
    {
     "ename": "ZeroDivisionError",
     "evalue": "division by zero",
     "output_type": "error",
     "traceback": [
      "\u001b[1;31m---------------------------------------------------------------------------\u001b[0m",
      "\u001b[1;31mZeroDivisionError\u001b[0m                         Traceback (most recent call last)",
      "\u001b[1;32m<ipython-input-22-5d83f39b16ea>\u001b[0m in \u001b[0;36m<module>\u001b[1;34m\u001b[0m\n\u001b[0;32m     15\u001b[0m             \u001b[0mprint\u001b[0m\u001b[1;33m(\u001b[0m\u001b[1;34mf\"➞ {a / b}\"\u001b[0m\u001b[1;33m)\u001b[0m\u001b[1;33m\u001b[0m\u001b[1;33m\u001b[0m\u001b[0m\n\u001b[0;32m     16\u001b[0m \u001b[1;33m\u001b[0m\u001b[0m\n\u001b[1;32m---> 17\u001b[1;33m \u001b[0marithmetic_operation\u001b[0m\u001b[1;33m(\u001b[0m\u001b[0minput\u001b[0m\u001b[1;33m(\u001b[0m\u001b[1;33m)\u001b[0m\u001b[1;33m)\u001b[0m\u001b[1;33m\u001b[0m\u001b[1;33m\u001b[0m\u001b[0m\n\u001b[0m",
      "\u001b[1;32m<ipython-input-22-5d83f39b16ea>\u001b[0m in \u001b[0;36marithmetic_operation\u001b[1;34m(s)\u001b[0m\n\u001b[0;32m     13\u001b[0m             \u001b[0mprint\u001b[0m\u001b[1;33m(\u001b[0m\u001b[1;33m-\u001b[0m\u001b[1;36m1\u001b[0m\u001b[1;33m)\u001b[0m\u001b[1;33m\u001b[0m\u001b[1;33m\u001b[0m\u001b[0m\n\u001b[0;32m     14\u001b[0m         \u001b[1;32melse\u001b[0m\u001b[1;33m:\u001b[0m\u001b[1;33m\u001b[0m\u001b[1;33m\u001b[0m\u001b[0m\n\u001b[1;32m---> 15\u001b[1;33m             \u001b[0mprint\u001b[0m\u001b[1;33m(\u001b[0m\u001b[1;34mf\"➞ {a / b}\"\u001b[0m\u001b[1;33m)\u001b[0m\u001b[1;33m\u001b[0m\u001b[1;33m\u001b[0m\u001b[0m\n\u001b[0m\u001b[0;32m     16\u001b[0m \u001b[1;33m\u001b[0m\u001b[0m\n\u001b[0;32m     17\u001b[0m \u001b[0marithmetic_operation\u001b[0m\u001b[1;33m(\u001b[0m\u001b[0minput\u001b[0m\u001b[1;33m(\u001b[0m\u001b[1;33m)\u001b[0m\u001b[1;33m)\u001b[0m\u001b[1;33m\u001b[0m\u001b[1;33m\u001b[0m\u001b[0m\n",
      "\u001b[1;31mZeroDivisionError\u001b[0m: division by zero"
     ]
    }
   ],
   "source": [
    "def arithmetic_operation(s):\n",
    "    ls = s.split(' ')\n",
    "    a = int(ls[0])\n",
    "    b = int(ls[2])\n",
    "    if(ls[1] == \"+\"):\n",
    "        print(f\"➞ {a + b}\")\n",
    "    elif(ls[1] == \"*\"):\n",
    "        print(f\"➞ {a * b}\")\n",
    "    elif(ls[1] == \"-\"):\n",
    "        print(f\"➞ {a - b}\")\n",
    "    else :\n",
    "        if(ls[2] == 0):\n",
    "            print(-1)\n",
    "        else:\n",
    "            print(f\"➞ {a / b}\")\n",
    "    \n",
    "arithmetic_operation(input())       "
   ]
  },
  {
   "cell_type": "code",
   "execution_count": 31,
   "id": "8a910ae9",
   "metadata": {},
   "outputs": [
    {
     "name": "stdout",
     "output_type": "stream",
     "text": [
      "False\n"
     ]
    }
   ],
   "source": [
    "s =\"12 // 3\"\n",
    "ls = s.split(' ')\n",
    "print(ls[2]==3)"
   ]
  },
  {
   "cell_type": "code",
   "execution_count": 27,
   "id": "dab6ddcc",
   "metadata": {},
   "outputs": [
    {
     "data": {
      "text/plain": [
       "4.0"
      ]
     },
     "execution_count": 27,
     "metadata": {},
     "output_type": "execute_result"
    }
   ],
   "source": [
    "12/3"
   ]
  },
  {
   "cell_type": "code",
   "execution_count": null,
   "id": "47afd344",
   "metadata": {},
   "outputs": [],
   "source": [
    "ls = [ [15, 7], [5, 22], [11, 1]]\n",
    "for i in ls:\n",
    "    if\n",
    "    for j in ls:\n",
    "        "
   ]
  },
  {
   "cell_type": "code",
   "execution_count": 36,
   "id": "69a4d9b0",
   "metadata": {},
   "outputs": [
    {
     "name": "stdout",
     "output_type": "stream",
     "text": [
      "[[0, 1, 0, 0],[0, 1, 0, 0],[0, 1, 1, 0],[1, 1, 1, 1]]\n",
      "4\n"
     ]
    }
   ],
   "source": [
    "def tallest_skyscraper(ls):\n",
    "    l = []\n",
    "    for i in range(len(ls)):\n",
    "        l.append(0)\n",
    "    for i in ls:\n",
    "        for j in range(len(i)):\n",
    "            if i[j]==1:\n",
    "                l[j]=l[j]+i[j]\n",
    "            else:\n",
    "                pass\n",
    "    print(max(l))\n",
    "tallest_skyscraper(eval(input()))"
   ]
  },
  {
   "cell_type": "code",
   "execution_count": 9,
   "id": "2da8a394",
   "metadata": {},
   "outputs": [
    {
     "name": "stdout",
     "output_type": "stream",
     "text": [
      "2\n",
      "d\n"
     ]
    }
   ],
   "source": [
    "s = \"Wh*r* d*d my v*w*ls g*?\"\n",
    "r = \"eeioeo\"\n",
    "c=s.count(\"*\")\n",
    "print(s.find(\"*\"))\n",
    "print(s[6])"
   ]
  },
  {
   "cell_type": "code",
   "execution_count": 10,
   "id": "ed3a9b71",
   "metadata": {},
   "outputs": [
    {
     "name": "stdout",
     "output_type": "stream",
     "text": [
      "2\n"
     ]
    }
   ],
   "source": [
    "r = 1\n",
    "b = 2\n",
    "r*=b\n",
    "print(b)"
   ]
  },
  {
   "cell_type": "code",
   "execution_count": 14,
   "id": "56fb9ba0",
   "metadata": {},
   "outputs": [
    {
     "data": {
      "text/plain": [
       "2.0"
      ]
     },
     "execution_count": 14,
     "metadata": {},
     "output_type": "execute_result"
    }
   ],
   "source": [
    "32/2\n",
    "16/2\n",
    "8/2\n",
    "4/2"
   ]
  },
  {
   "cell_type": "code",
   "execution_count": 35,
   "id": "4534d313",
   "metadata": {},
   "outputs": [
    {
     "data": {
      "text/plain": [
       "1"
      ]
     },
     "execution_count": 35,
     "metadata": {},
     "output_type": "execute_result"
    }
   ],
   "source": [
    "1 & 3"
   ]
  },
  {
   "cell_type": "code",
   "execution_count": 36,
   "id": "a1446430",
   "metadata": {},
   "outputs": [
    {
     "name": "stdout",
     "output_type": "stream",
     "text": [
      "4\n"
     ]
    }
   ],
   "source": [
    "ls = [\"A\", \"A\", \"A\", \"B\", \"C\", \"A\"]\n",
    "print(ls.count(\"A\"))"
   ]
  },
  {
   "cell_type": "code",
   "execution_count": 53,
   "id": "c923b25c",
   "metadata": {},
   "outputs": [
    {
     "name": "stdout",
     "output_type": "stream",
     "text": [
      "['A', 'B', 'C']\n"
     ]
    }
   ],
   "source": [
    "d = {\"A\":3,\"B\":4,\"C\":2}\n",
    "print(sorted(d))"
   ]
  },
  {
   "cell_type": "code",
   "execution_count": 54,
   "id": "182c5825",
   "metadata": {},
   "outputs": [
    {
     "name": "stdout",
     "output_type": "stream",
     "text": [
      "dict_items([('A', 3), ('B', 4), ('C', 2)])\n"
     ]
    }
   ],
   "source": [
    "d = {\"A\":3,\"B\":4,\"C\":2}\n",
    "print(d.items())"
   ]
  },
  {
   "cell_type": "code",
   "execution_count": 61,
   "id": "4d1deab9",
   "metadata": {},
   "outputs": [
    {
     "name": "stdout",
     "output_type": "stream",
     "text": [
      "[('C', 2), ('A', 3), ('B', 4)]\n",
      "[('B', 4), ('A', 3), ('C', 2)]\n"
     ]
    }
   ],
   "source": [
    "def maxe(i):\n",
    "    return i[1] \n",
    "\n",
    "d = {\"A\":3,\"B\":4,\"C\":2}\n",
    "i = d.items()\n",
    "print(sorted(i,key = maxe))\n",
    "print(sorted(i,reverse = True,key = maxe))\n"
   ]
  },
  {
   "cell_type": "code",
   "execution_count": 70,
   "id": "a8d8452f",
   "metadata": {},
   "outputs": [
    {
     "ename": "TypeError",
     "evalue": "count() takes at least 1 argument (0 given)",
     "output_type": "error",
     "traceback": [
      "\u001b[1;31m---------------------------------------------------------------------------\u001b[0m",
      "\u001b[1;31mTypeError\u001b[0m                                 Traceback (most recent call last)",
      "\u001b[1;32m<ipython-input-70-bf1867b777e6>\u001b[0m in \u001b[0;36m<module>\u001b[1;34m\u001b[0m\n\u001b[0;32m      1\u001b[0m \u001b[0mls\u001b[0m\u001b[1;33m=\u001b[0m \u001b[1;34m\"Today is a Wednesday!\"\u001b[0m\u001b[1;33m\u001b[0m\u001b[1;33m\u001b[0m\u001b[0m\n\u001b[0;32m      2\u001b[0m \u001b[0ma\u001b[0m \u001b[1;33m=\u001b[0m \u001b[0mls\u001b[0m\u001b[1;33m.\u001b[0m\u001b[0msplit\u001b[0m\u001b[1;33m(\u001b[0m\u001b[1;34m\" \"\u001b[0m\u001b[1;33m)\u001b[0m\u001b[1;33m\u001b[0m\u001b[1;33m\u001b[0m\u001b[0m\n\u001b[1;32m----> 3\u001b[1;33m \u001b[0mls\u001b[0m\u001b[1;33m.\u001b[0m\u001b[0mcount\u001b[0m\u001b[1;33m(\u001b[0m\u001b[1;33m)\u001b[0m\u001b[1;33m\u001b[0m\u001b[1;33m\u001b[0m\u001b[0m\n\u001b[0m",
      "\u001b[1;31mTypeError\u001b[0m: count() takes at least 1 argument (0 given)"
     ]
    }
   ],
   "source": [
    "ls= \"Today is a Wednesday!\"\n",
    "a = ls.split(\" \")\n",
    "ls.count()"
   ]
  },
  {
   "cell_type": "code",
   "execution_count": 69,
   "id": "5118bdb5",
   "metadata": {},
   "outputs": [
    {
     "ename": "TypeError",
     "evalue": "count() takes at least 1 argument (0 given)",
     "output_type": "error",
     "traceback": [
      "\u001b[1;31m---------------------------------------------------------------------------\u001b[0m",
      "\u001b[1;31mTypeError\u001b[0m                                 Traceback (most recent call last)",
      "\u001b[1;32m<ipython-input-69-e6e2450dc1d6>\u001b[0m in \u001b[0;36m<module>\u001b[1;34m\u001b[0m\n\u001b[1;32m----> 1\u001b[1;33m \u001b[1;34m\"Today is a Wednesday!\"\u001b[0m\u001b[1;33m.\u001b[0m\u001b[0mcount\u001b[0m\u001b[1;33m(\u001b[0m\u001b[1;33m)\u001b[0m\u001b[1;33m\u001b[0m\u001b[1;33m\u001b[0m\u001b[0m\n\u001b[0m",
      "\u001b[1;31mTypeError\u001b[0m: count() takes at least 1 argument (0 given)"
     ]
    }
   ],
   "source": [
    "\"Today is a Wednesday!\".count()"
   ]
  },
  {
   "cell_type": "code",
   "execution_count": 86,
   "id": "fd321b62",
   "metadata": {},
   "outputs": [
    {
     "name": "stdout",
     "output_type": "stream",
     "text": [
      "True\n"
     ]
    }
   ],
   "source": [
    "def isPolydivisible(n):\n",
    "    l = []\n",
    "    s = \"\"\n",
    "    output = False\n",
    "    for i in str(n):\n",
    "        s += i\n",
    "        l.append(s)\n",
    "        \n",
    "    for i in range(0,len(l)):\n",
    "        if((int(l[i]) % (i+1)) == 0):\n",
    "            output = True\n",
    "        else:\n",
    "            output = False\n",
    "            break\n",
    "    print(output)\n",
    "    \n",
    "\n",
    "isPolydivisible(1232)"
   ]
  },
  {
   "cell_type": "code",
   "execution_count": 85,
   "id": "1da7442b",
   "metadata": {},
   "outputs": [
    {
     "data": {
      "text/plain": [
       "'12'"
      ]
     },
     "execution_count": 85,
     "metadata": {},
     "output_type": "execute_result"
    }
   ],
   "source": [
    "s = \"1232\"\n",
    "s[:2]"
   ]
  },
  {
   "cell_type": "code",
   "execution_count": null,
   "id": "172dde2f",
   "metadata": {},
   "outputs": [],
   "source": [
    "def find_the_difference(s,t):\n",
    "    l = [i for in s]\n",
    "    l2 = [i for i in t]\n",
    "    \n",
    "    for i in l2:\n",
    "        if i in l:\n",
    "            l2.\n",
    "        else:\n",
    "            print(i)\n",
    "find_the_difference(\"abe\", \"abea\")"
   ]
  },
  {
   "cell_type": "code",
   "execution_count": 5,
   "id": "55ee0bd8",
   "metadata": {},
   "outputs": [
    {
     "name": "stdout",
     "output_type": "stream",
     "text": [
      "['b', 'a', 'c']\n"
     ]
    }
   ],
   "source": [
    "l = [\"a\",\"b\",\"a\",\"c\"]\n",
    "l.remove(\"a\")\n",
    "print(l)\n",
    "#s.index(\"abe\")"
   ]
  },
  {
   "cell_type": "code",
   "execution_count": 13,
   "id": "51d01c96",
   "metadata": {},
   "outputs": [
    {
     "name": "stdout",
     "output_type": "stream",
     "text": [
      "['a', 'b', 'e'] ['a', 'b', 'e', 'a']\n",
      "None None\n"
     ]
    }
   ],
   "source": [
    "def find_the_difference(s,t):\n",
    "    l = [i for i in s]\n",
    "    l2 = [i for i in t]\n",
    "    a=\"\"\n",
    "    print(l,l2)\n",
    "    print(l.remove(\"a\"),l2.remove(\"a\"))\n",
    "    #for i in l2:\n",
    "    #    if i in l:\n",
    "    #        l2.remove(i)\n",
    "    #        l.remove(i)\n",
    "    #    else:\n",
    "    #        a += i\n",
    "    #print(a)        \n",
    "find_the_difference(\"abe\", \"abea\")"
   ]
  },
  {
   "cell_type": "code",
   "execution_count": 16,
   "id": "beab2712",
   "metadata": {},
   "outputs": [
    {
     "data": {
      "text/plain": [
       "'a'"
      ]
     },
     "execution_count": 16,
     "metadata": {},
     "output_type": "execute_result"
    }
   ],
   "source": [
    "l =['a', 'b', 'e','a', 'b', 'e', 'a']\n",
    "l.pop(\"a\".index(\"a\"))"
   ]
  },
  {
   "cell_type": "code",
   "execution_count": 17,
   "id": "4114c418",
   "metadata": {},
   "outputs": [
    {
     "name": "stdout",
     "output_type": "stream",
     "text": [
      "['h', 'g', 'c', 'r', 'd', 't', 'e']\n"
     ]
    }
   ],
   "source": [
    "s = \"hgcrdte\"\n",
    "l = list(s)\n",
    "print(l)"
   ]
  },
  {
   "cell_type": "code",
   "execution_count": 18,
   "id": "6d0b9b96",
   "metadata": {},
   "outputs": [
    {
     "data": {
      "text/plain": [
       "1"
      ]
     },
     "execution_count": 18,
     "metadata": {},
     "output_type": "execute_result"
    }
   ],
   "source": [
    "l.index('g')"
   ]
  },
  {
   "cell_type": "code",
   "execution_count": 19,
   "id": "03b23a49",
   "metadata": {},
   "outputs": [
    {
     "data": {
      "text/plain": [
       "'g'"
      ]
     },
     "execution_count": 19,
     "metadata": {},
     "output_type": "execute_result"
    }
   ],
   "source": [
    "l.pop(1)"
   ]
  },
  {
   "cell_type": "code",
   "execution_count": 20,
   "id": "d6be11b4",
   "metadata": {},
   "outputs": [
    {
     "data": {
      "text/plain": [
       "['h', 'c', 'r', 'd', 't', 'e']"
      ]
     },
     "execution_count": 20,
     "metadata": {},
     "output_type": "execute_result"
    }
   ],
   "source": [
    "l"
   ]
  },
  {
   "cell_type": "code",
   "execution_count": 22,
   "id": "beaeff56",
   "metadata": {},
   "outputs": [
    {
     "data": {
      "text/plain": [
       "'r'"
      ]
     },
     "execution_count": 22,
     "metadata": {},
     "output_type": "execute_result"
    }
   ],
   "source": [
    "l.pop(l.index('r'))"
   ]
  },
  {
   "cell_type": "code",
   "execution_count": 25,
   "id": "49e49b6b",
   "metadata": {},
   "outputs": [],
   "source": [
    "d = {\"int\":0,\"str\":0,\"bool\":0,\"tuple\":0,\"dicitionary\":0}\n"
   ]
  },
  {
   "cell_type": "code",
   "execution_count": 27,
   "id": "8a4b36a9",
   "metadata": {},
   "outputs": [
    {
     "name": "stdout",
     "output_type": "stream",
     "text": [
      "{<class 'int'>: 0, <class 'str'>: 0, <class 'bool'>: 0, <class 'tuple'>: 0, 0: 0}\n"
     ]
    }
   ],
   "source": [
    "d = {int:0,str:0,bool:0,tuple:0,dict:0}\n",
    "print(d)"
   ]
  },
  {
   "cell_type": "code",
   "execution_count": 28,
   "id": "e94fd658",
   "metadata": {},
   "outputs": [
    {
     "name": "stdout",
     "output_type": "stream",
     "text": [
      "dict_values([2, 1, 1, 0, 0])\n"
     ]
    }
   ],
   "source": [
    "def count_datatypes(*args):\n",
    "    d = {int:0,str:0,bool:0,tuple:0,dict:0}\n",
    "    for arg in args:\n",
    "        if type(arg) in d.keys():\n",
    "            d[type(arg)] += 1\n",
    "    print(d.values())\n",
    "    \n",
    "count_datatypes(1, 45, \"Hi\", False)"
   ]
  },
  {
   "cell_type": "code",
   "execution_count": 30,
   "id": "71291aef",
   "metadata": {},
   "outputs": [
    {
     "name": "stdout",
     "output_type": "stream",
     "text": [
      "['j', 'h', 'hj']\n",
      "['e', 'a', 'ae', 'aea', 'aeaae']\n",
      "['n', 'k', 'kn', 'knk', 'knkkn', 'knkknknk']\n"
     ]
    }
   ],
   "source": [
    "def fib_str(n,ls):\n",
    "    for i in range(n):\n",
    "        if i>1:\n",
    "            ls.append(ls[i-1]+ls[i-2])\n",
    "    print(ls)\n",
    "\n",
    "fib_str(3, [\"j\", \"h\"])\n",
    "fib_str(5, [\"e\", \"a\"])\n",
    "fib_str(6, [\"n\", \"k\"])\n"
   ]
  },
  {
   "cell_type": "code",
   "execution_count": 38,
   "id": "057c1398",
   "metadata": {},
   "outputs": [
    {
     "ename": "KeyError",
     "evalue": "'nines'",
     "output_type": "error",
     "traceback": [
      "\u001b[1;31m---------------------------------------------------------------------------\u001b[0m",
      "\u001b[1;31mKeyError\u001b[0m                                  Traceback (most recent call last)",
      "\u001b[1;32m<ipython-input-38-a4a6b769e477>\u001b[0m in \u001b[0;36m<module>\u001b[1;34m\u001b[0m\n\u001b[0;32m     18\u001b[0m \u001b[1;33m\u001b[0m\u001b[0m\n\u001b[0;32m     19\u001b[0m \u001b[0mresult\u001b[0m \u001b[1;33m=\u001b[0m \u001b[0mAnswer\u001b[0m\u001b[1;33m(\u001b[0m\u001b[1;36m22\u001b[0m\u001b[1;33m)\u001b[0m\u001b[1;33m\u001b[0m\u001b[1;33m\u001b[0m\u001b[0m\n\u001b[1;32m---> 20\u001b[1;33m \u001b[0mresult\u001b[0m\u001b[1;33m.\u001b[0m\u001b[0mone_threes_nines\u001b[0m\u001b[1;33m(\u001b[0m\u001b[1;33m)\u001b[0m\u001b[1;33m\u001b[0m\u001b[1;33m\u001b[0m\u001b[0m\n\u001b[0m",
      "\u001b[1;32m<ipython-input-38-a4a6b769e477>\u001b[0m in \u001b[0;36mone_threes_nines\u001b[1;34m(self)\u001b[0m\n\u001b[0;32m      8\u001b[0m             \u001b[1;32mwhile\u001b[0m \u001b[1;33m(\u001b[0m\u001b[0mself\u001b[0m\u001b[1;33m.\u001b[0m\u001b[0manswer\u001b[0m\u001b[1;33m>\u001b[0m\u001b[1;36m9\u001b[0m\u001b[1;33m)\u001b[0m\u001b[1;33m:\u001b[0m\u001b[1;33m\u001b[0m\u001b[1;33m\u001b[0m\u001b[0m\n\u001b[0;32m      9\u001b[0m                 \u001b[0mself\u001b[0m\u001b[1;33m.\u001b[0m\u001b[0manswer\u001b[0m \u001b[1;33m=\u001b[0m \u001b[0mself\u001b[0m\u001b[1;33m.\u001b[0m\u001b[0manswer\u001b[0m\u001b[1;33m-\u001b[0m\u001b[1;36m9\u001b[0m\u001b[1;33m\u001b[0m\u001b[1;33m\u001b[0m\u001b[0m\n\u001b[1;32m---> 10\u001b[1;33m                 \u001b[0md\u001b[0m\u001b[1;33m[\u001b[0m\u001b[1;34m\"nines\"\u001b[0m\u001b[1;33m]\u001b[0m \u001b[1;33m+=\u001b[0m \u001b[1;36m1\u001b[0m\u001b[1;33m\u001b[0m\u001b[1;33m\u001b[0m\u001b[0m\n\u001b[0m\u001b[0;32m     11\u001b[0m             \u001b[1;32mwhile\u001b[0m \u001b[1;33m(\u001b[0m\u001b[0mself\u001b[0m\u001b[1;33m.\u001b[0m\u001b[0manswer\u001b[0m \u001b[1;33m>\u001b[0m \u001b[1;36m3\u001b[0m\u001b[1;33m)\u001b[0m\u001b[1;33m:\u001b[0m\u001b[1;33m\u001b[0m\u001b[1;33m\u001b[0m\u001b[0m\n\u001b[0;32m     12\u001b[0m                 \u001b[0mself\u001b[0m\u001b[1;33m.\u001b[0m\u001b[0manswer\u001b[0m \u001b[1;33m=\u001b[0m \u001b[0mself\u001b[0m\u001b[1;33m.\u001b[0m\u001b[0manswer\u001b[0m\u001b[1;33m-\u001b[0m\u001b[1;36m3\u001b[0m\u001b[1;33m\u001b[0m\u001b[1;33m\u001b[0m\u001b[0m\n",
      "\u001b[1;31mKeyError\u001b[0m: 'nines'"
     ]
    }
   ],
   "source": [
    "class Answer:\n",
    "    d = {\"nines\":0,\"threes\":0,\"ones\":0}\n",
    "    def __init__(self,num=None):\n",
    "        self.answer = num\n",
    "        \n",
    "    def one_threes_nines(self):\n",
    "        while self.answer>=0:\n",
    "            while (self.answer>9):\n",
    "                self.answer = self.answer-9\n",
    "                d[\"nines\"] += 1\n",
    "                \n",
    "            while (self.answer > 3):\n",
    "                self.answer = self.answer-3\n",
    "                d[\"threes\"] += 1\n",
    "                \n",
    "            while(self.answer>1):\n",
    "                self.answer = self.answer-1\n",
    "                d[\"ones\"] += 1\n",
    "        return d\n",
    " \n",
    "result = Answer(22)\n",
    "result.one_threes_nines()"
   ]
  },
  {
   "cell_type": "code",
   "execution_count": null,
   "id": "d97883d0",
   "metadata": {},
   "outputs": [],
   "source": [
    "def one_threes_nines(n):\n",
    "    d = {\"nines\":0,\"threes\":0,\"ones\":0}\n",
    "    if n > 0:\n",
    "        while (n>9):\n",
    "            n = n-9\n",
    "            d[\"nines\"] += 1\n",
    "            \n",
    "           while (n > 3):\n",
    "                 n = n-3\n",
    "                 d[\"threes\"] += 1\n",
    "            \n",
    "        while(n>1):\n",
    "            n = n-1\n",
    "            d[\"ones\"] += 1\n",
    "    return d\n",
    "one_threes_nines(22)"
   ]
  },
  {
   "cell_type": "code",
   "execution_count": null,
   "id": "b573bd31",
   "metadata": {},
   "outputs": [],
   "source": [
    "n = 22\n",
    "d = {\"nines\":0,\"threes\":0,\"ones\":0}\n",
    "while (n>9):\n",
    "     n = n-9\n",
    "     d[\"nines\"] += 1\n",
    "print(n)"
   ]
  },
  {
   "cell_type": "code",
   "execution_count": null,
   "id": "c262c522",
   "metadata": {},
   "outputs": [],
   "source": []
  }
 ],
 "metadata": {
  "kernelspec": {
   "display_name": "Python 3",
   "language": "python",
   "name": "python3"
  },
  "language_info": {
   "codemirror_mode": {
    "name": "ipython",
    "version": 3
   },
   "file_extension": ".py",
   "mimetype": "text/x-python",
   "name": "python",
   "nbconvert_exporter": "python",
   "pygments_lexer": "ipython3",
   "version": "3.8.8"
  }
 },
 "nbformat": 4,
 "nbformat_minor": 5
}
