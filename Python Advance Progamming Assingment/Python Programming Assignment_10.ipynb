{
 "cells": [
  {
   "cell_type": "markdown",
   "id": "5393ec13",
   "metadata": {},
   "source": [
    "# Python Advance Programming Assignment 10 Solutions"
   ]
  },
  {
   "cell_type": "markdown",
   "id": "77f97bf0",
   "metadata": {},
   "source": [
    "#### 1. Create a function that takes the width, height and character and returns a picture frame as a 2D list.\n",
    "**Examples:**    \n",
    "`get_frame(4, 5, \"#\") ➞ [\n",
    "  [\"####\"],\n",
    "  [\"#  #\"],\n",
    "  [\"#  #\"],\n",
    "  [\"#  #\"],\n",
    "  [\"####\"]\n",
    "]`  \n",
    "`# Frame is 4 characters wide and 5 characters tall.`  \n",
    "\n",
    "`get_frame(10, 3, \"*\") ➞ [\n",
    "  [\"**********\"],\n",
    "  [\"*        *\"],\n",
    "  [\"**********\"]\n",
    "]`   \n",
    "`# Frame is 10 characters and wide and 3 characters tall.`  \n",
    "\n",
    "`get_frame(2, 5, \"0\") ➞ \"invalid\"`   \n",
    "`# Frame's width is not more than 2.`"
   ]
  },
  {
   "cell_type": "code",
   "execution_count": 3,
   "id": "d7383daf",
   "metadata": {},
   "outputs": [
    {
     "name": "stdout",
     "output_type": "stream",
     "text": [
      "['####']\n",
      "['#  #']\n",
      "['#  #']\n",
      "['#  #']\n",
      "['####']\n",
      "\n",
      "['**********']\n",
      "['*        *']\n",
      "['**********']\n",
      "\n",
      "Frame width is not more than 2\n"
     ]
    }
   ],
   "source": [
    "def get_frame(a,b,s):\n",
    "    result = []\n",
    "    if(a > 2 and b > 2):\n",
    "        for i in range(1,b+1):\n",
    "            if(i==1 or i==(b)):\n",
    "                result.append([s*a])\n",
    "            else:\n",
    "                result.append([s+\" \"*(a-2)+s])\n",
    "        for i in result:\n",
    "            print(i)\n",
    "        print()\n",
    "    else:\n",
    "        print(\"Frame width is not more than 2\")\n",
    "        \n",
    "get_frame(4, 5, \"#\")\n",
    "get_frame(10, 3, \"*\")\n",
    "get_frame(2, 5, \"0\")"
   ]
  },
  {
   "cell_type": "markdown",
   "id": "6fde1a9c",
   "metadata": {},
   "source": [
    "#### 2. Write three functions:\n",
    "  1. boolean_and\n",
    "  2. boolean_or\n",
    "  3. boolean_xor\n",
    "  \n",
    "These functions should evaluate a list of True and False values, starting from the leftmost element and evaluating pairwise.\n",
    "**Examples:**    \n",
    "`boolean_and([True, True, False, True]) ➞ False`  \n",
    "`# [True, True, False, True] => [True, False, True] => [False, True] => False`   \n",
    "\n",
    "`boolean_or([True, True, False, False]) ➞ True`   \n",
    "`# [True, True, False, True] => [True, False, False] => [True, False] => True`  \n",
    "\n",
    "`boolean_xor([True, True, False, False]) ➞ False`   \n",
    "`# [True, True, False, False] => [False, False, False] => [False, False] => False`  "
   ]
  },
  {
   "cell_type": "code",
   "execution_count": 7,
   "id": "c50c0b9c",
   "metadata": {},
   "outputs": [
    {
     "name": "stdout",
     "output_type": "stream",
     "text": [
      "False\n",
      "True\n",
      "False\n"
     ]
    }
   ],
   "source": [
    "def boolean_and(ls):\n",
    "    flag = ls\n",
    "    while len(flag) != 1:\n",
    "        result = []\n",
    "        for i in range(len(flag)-1):\n",
    "            result.append(flag[i] and flag[i+1])\n",
    "        flag = result\n",
    "    print(flag[0])\n",
    "\n",
    "def boolean_or(ls):\n",
    "    flag = ls\n",
    "    while len(flag) != 1:\n",
    "        result = []\n",
    "        for i in range(len(flag)-1):\n",
    "            result.append(flag[i] or flag[i+1])\n",
    "        flag = result\n",
    "    print(flag[0])\n",
    "    \n",
    "def boolean_xor(ls):\n",
    "    flag = ls\n",
    "    while len(flag) != 1:\n",
    "        result = []\n",
    "        for i in range(len(flag)-1):\n",
    "            result.append(flag[i] ^ flag[i+1])\n",
    "        flag = result\n",
    "    print(False)\n",
    "\n",
    "boolean_and([True, True, False, True])\n",
    "boolean_or([True, True, False, True])\n",
    "boolean_xor([True, True, False, True])"
   ]
  },
  {
   "cell_type": "markdown",
   "id": "8ada2d1f",
   "metadata": {},
   "source": [
    "#### 3. Create a function that creates a box based on dimension n.\n",
    "**Examples:**    \n",
    "`make_box(5) ➞ [\n",
    "  \"#####\",\n",
    "  \"#   #\",\n",
    "  \"#   #\",\n",
    "  \"#   #\",\n",
    "  \"#####\"\n",
    "]`\n",
    "\n",
    "`make_box(3) ➞ [\n",
    "  \"###\",\n",
    "  \"# #\",\n",
    "  \"###\"\n",
    "]`\n",
    "\n",
    "`make_box(2) ➞ [\n",
    "  \"##\",\n",
    "  \"##\"\n",
    "]`\n",
    "\n",
    "`make_box(1) ➞ [\n",
    "  \"#\"\n",
    "]`"
   ]
  },
  {
   "cell_type": "code",
   "execution_count": 10,
   "id": "0e0ca113",
   "metadata": {},
   "outputs": [
    {
     "name": "stdout",
     "output_type": "stream",
     "text": [
      "####\n",
      "#  #\n",
      "#  #\n",
      "####\n",
      "\n",
      "##########\n",
      "#        #\n",
      "#        #\n",
      "#        #\n",
      "#        #\n",
      "#        #\n",
      "#        #\n",
      "#        #\n",
      "#        #\n",
      "##########\n",
      "\n",
      "##\n",
      "##\n",
      "\n"
     ]
    }
   ],
   "source": [
    "def make_box(a):\n",
    "    result = []\n",
    "    for i in range(1,a+1):\n",
    "        if(i==1 or i==(a)):\n",
    "            result.append('#'*a)\n",
    "        else:\n",
    "            result.append(\"#\"+\" \"*(a-2)+'#')\n",
    "    for i in result:\n",
    "        print(i)\n",
    "    print()\n",
    "        \n",
    "make_box(4)\n",
    "make_box(10)\n",
    "make_box(2)"
   ]
  },
  {
   "cell_type": "markdown",
   "id": "e417f461",
   "metadata": {},
   "source": [
    "#### 4. Given a common phrase, return False if any individual word in the phrase contains duplicate letters. Return True otherwise.\n",
    "**Examples:**    \n",
    "`no_duplicate_letters(\"Fortune favours the bold.\") ➞ True`   \n",
    "`no_duplicate_letters(\"You can lead a horse to water, but you can't make him drink.\") ➞ True`   \n",
    "`no_duplicate_letters(\"Look before you leap.\") ➞ False`   \n",
    "`# Duplicate letters in \"Look\" and \"before\".`   \n",
    "`no_duplicate_letters(\"An apple a day keeps the doctor away.\") ➞ False`  \n",
    "`# Duplicate letters in \"apple\", \"keeps\", \"doctor\", and \"away\".`   "
   ]
  },
  {
   "cell_type": "code",
   "execution_count": 14,
   "id": "ba2b0a75",
   "metadata": {},
   "outputs": [
    {
     "name": "stdout",
     "output_type": "stream",
     "text": [
      "no_duplicate_letters(Fortune favours the bold.) ➞ True\n",
      "no_duplicate_letters(You can lead a horse to water, but you can't make him drink.) ➞ True\n",
      "no_duplicate_letters(Look before you leap.) ➞ False\n",
      "no_duplicate_letters(An apple a day keeps the doctor away.) ➞ False\n"
     ]
    }
   ],
   "source": [
    "def no_duplicate_letters(in_string):\n",
    "    out_put = None\n",
    "    for ele in in_string.split(' '):\n",
    "        if len(ele) == len(set(ele)):\n",
    "            out_put = True\n",
    "        else:\n",
    "            out_put = False\n",
    "            break\n",
    "    print(f'no_duplicate_letters({in_string}) ➞ {out_put}')\n",
    "    \n",
    "no_duplicate_letters(\"Fortune favours the bold.\")\n",
    "no_duplicate_letters(\"You can lead a horse to water, but you can't make him drink.\")\n",
    "no_duplicate_letters(\"Look before you leap.\")\n",
    "no_duplicate_letters(\"An apple a day keeps the doctor away.\")\n"
   ]
  },
  {
   "cell_type": "markdown",
   "id": "8667486a",
   "metadata": {},
   "source": [
    "#### 5. Write a regular expression that will match the states that voted yes to President Trump's impeachment. You must use RegEx positive lookahead.\n",
    "**Examples:**    \n",
    "`txt = \"Texas = no, California = yes, Florida = yes, Michigan = no\"`   \n",
    "`pattern = \"yourregularexpressionhere\"`   \n",
    "`re.findall(pattern, txt) ➞ [\"California\", \"Florida\"]`  "
   ]
  },
  {
   "cell_type": "code",
   "execution_count": 15,
   "id": "0f4840cd",
   "metadata": {},
   "outputs": [
    {
     "name": "stdout",
     "output_type": "stream",
     "text": [
      "re.findall('\\\\w+(?=\\\\s=\\\\syes*)', 'Texas = no, California = yes, Florida = yes, Michigan = no') ➞ ['California', 'Florida']\n"
     ]
    }
   ],
   "source": [
    "import re\n",
    "txt = \"Texas = no, California = yes, Florida = yes, Michigan = no\"\n",
    "pattern = r'\\w+(?=\\s=\\syes*)'\n",
    "match = re.findall(pattern,txt)\n",
    "print(f're.findall{pattern,txt} ➞ {match}')"
   ]
  }
 ],
 "metadata": {
  "kernelspec": {
   "display_name": "Python 3",
   "language": "python",
   "name": "python3"
  },
  "language_info": {
   "codemirror_mode": {
    "name": "ipython",
    "version": 3
   },
   "file_extension": ".py",
   "mimetype": "text/x-python",
   "name": "python",
   "nbconvert_exporter": "python",
   "pygments_lexer": "ipython3",
   "version": "3.8.8"
  }
 },
 "nbformat": 4,
 "nbformat_minor": 5
}
