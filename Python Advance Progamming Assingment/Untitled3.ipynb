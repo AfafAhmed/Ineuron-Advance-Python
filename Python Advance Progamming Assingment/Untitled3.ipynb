{
 "cells": [
  {
   "cell_type": "code",
   "execution_count": 1,
   "id": "a11aaed9",
   "metadata": {},
   "outputs": [
    {
     "name": "stdout",
     "output_type": "stream",
     "text": [
      "ABACADAEAFAGAHAIAJA\n"
     ]
    }
   ],
   "source": [
    "s=\"ABACADAEAFAGAHAIAJA\"\n",
    "\n",
    "if(s[0] and s[-1] == 'A'):\n",
    "    print(s)"
   ]
  },
  {
   "cell_type": "code",
   "execution_count": 10,
   "id": "dc307eab",
   "metadata": {},
   "outputs": [
    {
     "name": "stdout",
     "output_type": "stream",
     "text": [
      "BCDEFGHIJ\n",
      "B\n",
      "BBCC\n",
      "\n",
      "\n"
     ]
    }
   ],
   "source": [
    "def valid_rondo(s):\n",
    "    t = \"BCDEFGHIJKLMNOPQRSTUVWXYZ\"\n",
    "    r = \"\"\n",
    "    result = False\n",
    "    if(s[0] and s[-1] == 'A'):\n",
    "        for i in s:\n",
    "            if(i != \"A\"):\n",
    "                r += i\n",
    "    print(r)\n",
    "    \n",
    "            \n",
    "valid_rondo(\"ABACADAEAFAGAHAIAJA\")\n",
    "valid_rondo(\"ABA\")\n",
    "valid_rondo(\"ABBACCA\")\n",
    "valid_rondo(\"ACAC\")\n",
    "valid_rondo(\"A\")"
   ]
  },
  {
   "cell_type": "code",
   "execution_count": 13,
   "id": "879305b8",
   "metadata": {},
   "outputs": [
    {
     "name": "stdout",
     "output_type": "stream",
     "text": [
      "BCDEFGHIJ\n"
     ]
    }
   ],
   "source": [
    "s=\"ABACADAEAFAGAHAIAJA\"\n",
    "\n",
    "r = s.replace('A','')\n",
    "print(r)"
   ]
  },
  {
   "cell_type": "code",
   "execution_count": 17,
   "id": "23a0e835",
   "metadata": {},
   "outputs": [
    {
     "name": "stdout",
     "output_type": "stream",
     "text": [
      "sentence_searcher(('I have a cat. I have a mat. Things are going swell.', 'have')) --> I have a cat\n",
      "sentence_searcher(('I have a cat. I have a mat. Things are going swell.', 'MAT')) -->  I have a mat\n",
      "sentence_searcher(('I have a cat. I have a mat. Things are going swell.', 'things')) -->  Things are going swell\n",
      "sentence_searcher(('I have a cat. I have a mat. Things are going swell.', 'flat')) --> \n"
     ]
    }
   ],
   "source": [
    "def sentence_searcher(txt,s):\n",
    "    ls = txt.split(\".\")\n",
    "    t = \"\"\n",
    "    for i in ls:\n",
    "        if(s.lower() in i.lower()):\n",
    "            t += i\n",
    "            break\n",
    "\n",
    "    print(f'sentence_searcher({txt,s}) --> {t}')       \n",
    "\n",
    "sentence_searcher(\"I have a cat. I have a mat. Things are going swell.\", \"have\")\n",
    "sentence_searcher(\"I have a cat. I have a mat. Things are going swell.\", \"MAT\")\n",
    "sentence_searcher(\"I have a cat. I have a mat. Things are going swell.\", \"things\")\n",
    "sentence_searcher(\"I have a cat. I have a mat. Things are going swell.\", \"flat\")"
   ]
  },
  {
   "cell_type": "code",
   "execution_count": 33,
   "id": "b9f17727",
   "metadata": {},
   "outputs": [
    {
     "name": "stdout",
     "output_type": "stream",
     "text": [
      "sum_round(101) --> 10 200 4000 50000\n",
      "sum_round(1234) --> 10 200 4000 50000\n",
      "sum_round(54210) --> 10 200 4000 50000\n"
     ]
    }
   ],
   "source": [
    "def sum_round(n):\n",
    "    ls = []\n",
    "    s = str(n)\n",
    "    for i in range(len(s)):\n",
    "        if(s[i] != '0'):\n",
    "            ls.append(s[i]+'0'*(len(s[i:])-1))\n",
    "    print(f'sum_round({n}) --> {\" \".join(l[::-1])}')  \n",
    "    \n",
    "sum_round(101)\n",
    "sum_round(1234)\n",
    "sum_round(54210)"
   ]
  },
  {
   "cell_type": "code",
   "execution_count": 31,
   "id": "4841c743",
   "metadata": {},
   "outputs": [
    {
     "data": {
      "text/plain": [
       "'10 200 4000 50000'"
      ]
     },
     "execution_count": 31,
     "metadata": {},
     "output_type": "execute_result"
    }
   ],
   "source": [
    "l = ['50000', '4000', '200', '10']\n",
    "s = \" \".join(l[::-1])\n",
    "s"
   ]
  },
  {
   "cell_type": "code",
   "execution_count": 13,
   "id": "59e7b085",
   "metadata": {},
   "outputs": [
    {
     "name": "stdout",
     "output_type": "stream",
     "text": [
      "48\n",
      "57\n",
      "65\n",
      "70\n",
      "97\n",
      "102\n"
     ]
    }
   ],
   "source": [
    "print(ord('0'))\n",
    "print(ord('9'))\n",
    "print(ord('A'))\n",
    "print(ord('F'))\n",
    "print(ord('a'))\n",
    "print(ord('f'))"
   ]
  },
  {
   "cell_type": "code",
   "execution_count": 17,
   "id": "1869f974",
   "metadata": {},
   "outputs": [
    {
     "data": {
      "text/plain": [
       "4"
      ]
     },
     "execution_count": 17,
     "metadata": {},
     "output_type": "execute_result"
    }
   ],
   "source": [
    "eval(\"2+2\")"
   ]
  },
  {
   "cell_type": "code",
   "execution_count": 21,
   "id": "a23d6bb7",
   "metadata": {},
   "outputs": [
    {
     "data": {
      "text/plain": [
       "\"['3', '6', '7']\""
      ]
     },
     "execution_count": 21,
     "metadata": {},
     "output_type": "execute_result"
    }
   ],
   "source": [
    "l = str(['3','6','7'])\n",
    "l"
   ]
  },
  {
   "cell_type": "code",
   "execution_count": 1,
   "id": "02de036d",
   "metadata": {},
   "outputs": [
    {
     "data": {
      "text/plain": [
       "['right', '10']"
      ]
     },
     "execution_count": 1,
     "metadata": {},
     "output_type": "execute_result"
    }
   ],
   "source": [
    "\"right 10\".split(\" \")"
   ]
  },
  {
   "cell_type": "code",
   "execution_count": 5,
   "id": "f5dbc63a",
   "metadata": {},
   "outputs": [
    {
     "data": {
      "text/plain": [
       "'thing'"
      ]
     },
     "execution_count": 5,
     "metadata": {},
     "output_type": "execute_result"
    }
   ],
   "source": [
    "\"A thing of beauty is a joy forever\"."
   ]
  },
  {
   "cell_type": "code",
   "execution_count": 7,
   "id": "4324c4a8",
   "metadata": {},
   "outputs": [
    {
     "data": {
      "text/plain": [
       "['\"Strengths\"',\n",
       " 'is',\n",
       " 'the',\n",
       " 'longest',\n",
       " 'and',\n",
       " 'most',\n",
       " 'commonly',\n",
       " 'used',\n",
       " 'word',\n",
       " 'that',\n",
       " 'contains',\n",
       " 'only',\n",
       " 'a',\n",
       " 'single',\n",
       " 'vowel.']"
      ]
     },
     "execution_count": 7,
     "metadata": {},
     "output_type": "execute_result"
    }
   ],
   "source": [
    "\"\\\"Strengths\\\" is the longest and most commonly used word that contains only a single vowel.\".split(\" \")"
   ]
  },
  {
   "cell_type": "code",
   "execution_count": 20,
   "id": "e308e7c1",
   "metadata": {},
   "outputs": [
    {
     "name": "stdout",
     "output_type": "stream",
     "text": [
      "[2, 3]\n",
      "[2, 3, 4, 5, 6, 7]\n"
     ]
    }
   ],
   "source": [
    "l = [2, 3, 4, 5, 6, 7]\n",
    "\n",
    "print(l[:2])\n",
    "print(l)"
   ]
  },
  {
   "cell_type": "code",
   "execution_count": 1,
   "id": "26d906c8",
   "metadata": {},
   "outputs": [
    {
     "ename": "SyntaxError",
     "evalue": "invalid syntax (<ipython-input-1-1693d7b44df1>, line 4)",
     "output_type": "error",
     "traceback": [
      "\u001b[1;36m  File \u001b[1;32m\"<ipython-input-1-1693d7b44df1>\"\u001b[1;36m, line \u001b[1;32m4\u001b[0m\n\u001b[1;33m    l1 = [l1.append(a) for i in range(n) if i%2 != 0 else l1.append(b)]\u001b[0m\n\u001b[1;37m                                                     ^\u001b[0m\n\u001b[1;31mSyntaxError\u001b[0m\u001b[1;31m:\u001b[0m invalid syntax\n"
     ]
    }
   ],
   "source": [
    "a = \"A\"\n",
    "b = \"B\"\n",
    "\n",
    "l1 = [l1.append(a) for i in range(n) if i%2 != 0 else l1.append(b)]"
   ]
  },
  {
   "cell_type": "code",
   "execution_count": 2,
   "id": "0036f431",
   "metadata": {},
   "outputs": [
    {
     "ename": "TypeError",
     "evalue": "unsupported operand type(s) for -: 'str' and 'str'",
     "output_type": "error",
     "traceback": [
      "\u001b[1;31m---------------------------------------------------------------------------\u001b[0m",
      "\u001b[1;31mTypeError\u001b[0m                                 Traceback (most recent call last)",
      "\u001b[1;32m<ipython-input-2-215649a89ea1>\u001b[0m in \u001b[0;36m<module>\u001b[1;34m\u001b[0m\n\u001b[1;32m----> 1\u001b[1;33m \u001b[1;34m'abcd'\u001b[0m\u001b[1;33m-\u001b[0m\u001b[1;34m'abcd'\u001b[0m\u001b[1;33m\u001b[0m\u001b[1;33m\u001b[0m\u001b[0m\n\u001b[0m",
      "\u001b[1;31mTypeError\u001b[0m: unsupported operand type(s) for -: 'str' and 'str'"
     ]
    }
   ],
   "source": [
    "'abcd'-'abcd'"
   ]
  },
  {
   "cell_type": "code",
   "execution_count": 8,
   "id": "3bc5a533",
   "metadata": {},
   "outputs": [
    {
     "name": "stdout",
     "output_type": "stream",
     "text": [
      "1\n"
     ]
    }
   ],
   "source": [
    "s = 'abcdcbg'\n",
    "print(s.count('a'))"
   ]
  }
 ],
 "metadata": {
  "kernelspec": {
   "display_name": "Python 3",
   "language": "python",
   "name": "python3"
  },
  "language_info": {
   "codemirror_mode": {
    "name": "ipython",
    "version": 3
   },
   "file_extension": ".py",
   "mimetype": "text/x-python",
   "name": "python",
   "nbconvert_exporter": "python",
   "pygments_lexer": "ipython3",
   "version": "3.8.8"
  }
 },
 "nbformat": 4,
 "nbformat_minor": 5
}
